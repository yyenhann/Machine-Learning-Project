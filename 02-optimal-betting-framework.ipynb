{
 "cells": [
  {
   "cell_type": "code",
   "execution_count": 1,
   "metadata": {},
   "outputs": [],
   "source": [
    "using DataFrames, CSV, JuMP, Gurobi, LinearAlgebra, Random, Printf, StatsBase, CategoricalArrays, Plots, StatsPlots, Distributions"
   ]
  },
  {
   "cell_type": "markdown",
   "metadata": {},
   "source": [
    "## ____________________________________________________________________"
   ]
  },
  {
   "cell_type": "markdown",
   "metadata": {},
   "source": [
    "## Import Datasets (Outputted Probabilities and Returns on $100 Bets)"
   ]
  },
  {
   "cell_type": "code",
   "execution_count": 34,
   "metadata": {},
   "outputs": [],
   "source": [
    "# # add actual data here\n",
    "# xgb_preds = CSV.read(\"C:\\\\Users\\\\shann\\\\Documents\\\\GitHub\\\\15095-project\\\\notebooks\\\\xgb_cv_pred.csv\",DataFrame)\n",
    "# rf_preds = CSV.read(\"C:\\\\Users\\\\shann\\\\Documents\\\\GitHub\\\\15095-project\\\\notebooks\\\\rf_pred.csv\",DataFrame)\n",
    "# lgbm_preds = CSV.read(\"C:\\\\Users\\\\shann\\\\Documents\\\\GitHub\\\\15095-project\\\\notebooks\\\\lgbm_cv_pred.csv\",DataFrame);\n",
    "# logreg_preds = CSV.read(\"C:\\\\Users\\\\shann\\\\Documents\\\\GitHub\\\\15095-project\\\\notebooks\\\\logreg_pred.csv\",DataFrame);\n",
    "# new_xgb_preds = CSV.read(\"C:\\\\Users\\\\shann\\\\Documents\\\\GitHub\\\\15095-project\\\\notebooks\\\\new_xgb_pred.csv\",DataFrame);\n",
    "# rf_preds = CSV.read(\"C:\\\\Users\\\\shann\\\\Documents\\\\GitHub\\\\15095-project\\\\notebooks\\\\rf_pred.csv\",DataFrame);\n",
    "# returns = CSV.read(\"C:\\\\Users\\\\shann\\\\Documents\\\\GitHub\\\\15095-project\\\\data\\\\group_stage_betting_odds_final_cleaned.csv\",DataFrame);\n",
    "\n",
    "# # add actual data here\n",
    "new_xgb_preds = CSV.read(\"/Users/yenhann/Documents/MIT/15.095 Machine Learning/15095-project/notebooks/new_xgb_pred2.csv\",DataFrame);\n",
    "returns = CSV.read(\"/Users/yenhann/Documents/MIT/15.095 Machine Learning/15095-project/data/group_stage_betting_odds_final_cleaned.csv\",DataFrame);\n",
    "\n",
    "# real outcomes for each match (DONT NEED TO MANUALLY KEY IN THE REAL OUTCOMES OF EVERY MATCH)\n",
    "real_outcomes = CSV.read(\"/Users/yenhann/Documents/MIT/15.095 Machine Learning/15095-project/data/group_stage_mapped_outcomes.csv\",DataFrame);"
   ]
  },
  {
   "cell_type": "code",
   "execution_count": 35,
   "metadata": {},
   "outputs": [],
   "source": [
    "returns_matrix = Matrix(returns[:,3:5]);\n",
    "# # matrix of probabilities for model's predictions\n",
    "# xgb_probs = Matrix(xgb_preds[:,3:5]);\n",
    "# rf_probs = Matrix(rf_preds[:,3:5]);\n",
    "# lgbm_probs = Matrix(lgbm_preds[:,3:5]);\n",
    "# logreg_probs = Matrix(logreg_preds[:,3:5]);\n",
    "new_xgb_probs = Matrix(new_xgb_preds[:,3:5]);"
   ]
  },
  {
   "cell_type": "code",
   "execution_count": 36,
   "metadata": {},
   "outputs": [
    {
     "data": {
      "text/html": [
       "<div><div style = \"float: left;\"><span>8×5 DataFrame</span></div><div style = \"clear: both;\"></div></div><div class = \"data-frame\" style = \"overflow-x: scroll;\"><table class = \"data-frame\" style = \"margin-bottom: 6px;\"><thead><tr class = \"header\"><th class = \"rowNumber\" style = \"font-weight: bold; text-align: right;\">Row</th><th style = \"text-align: left;\">home_team</th><th style = \"text-align: left;\">away_team</th><th style = \"text-align: left;\">home_win</th><th style = \"text-align: left;\">draw</th><th style = \"text-align: left;\">home_loss</th></tr><tr class = \"subheader headerLastRow\"><th class = \"rowNumber\" style = \"font-weight: bold; text-align: right;\"></th><th title = \"String15\" style = \"text-align: left;\">String15</th><th title = \"String15\" style = \"text-align: left;\">String15</th><th title = \"Float64\" style = \"text-align: left;\">Float64</th><th title = \"Float64\" style = \"text-align: left;\">Float64</th><th title = \"Float64\" style = \"text-align: left;\">Float64</th></tr></thead><tbody><tr><td class = \"rowNumber\" style = \"font-weight: bold; text-align: right;\">1</td><td style = \"text-align: left;\">Argentina</td><td style = \"text-align: left;\">Mexico</td><td style = \"text-align: right;\">0.998929</td><td style = \"text-align: right;\">0.0006162</td><td style = \"text-align: right;\">0.000455174</td></tr><tr><td class = \"rowNumber\" style = \"font-weight: bold; text-align: right;\">2</td><td style = \"text-align: left;\">Argentina</td><td style = \"text-align: left;\">Saudi Arabia</td><td style = \"text-align: right;\">0.979123</td><td style = \"text-align: right;\">0.0143582</td><td style = \"text-align: right;\">0.00651851</td></tr><tr><td class = \"rowNumber\" style = \"font-weight: bold; text-align: right;\">3</td><td style = \"text-align: left;\">Australia</td><td style = \"text-align: left;\">Denmark</td><td style = \"text-align: right;\">0.954803</td><td style = \"text-align: right;\">0.0345429</td><td style = \"text-align: right;\">0.0106539</td></tr><tr><td class = \"rowNumber\" style = \"font-weight: bold; text-align: right;\">4</td><td style = \"text-align: left;\">Belgium</td><td style = \"text-align: left;\">Canada</td><td style = \"text-align: right;\">0.980443</td><td style = \"text-align: right;\">0.0184453</td><td style = \"text-align: right;\">0.00111201</td></tr><tr><td class = \"rowNumber\" style = \"font-weight: bold; text-align: right;\">5</td><td style = \"text-align: left;\">Belgium</td><td style = \"text-align: left;\">Morocco</td><td style = \"text-align: right;\">0.991519</td><td style = \"text-align: right;\">0.00806756</td><td style = \"text-align: right;\">0.000413186</td></tr><tr><td class = \"rowNumber\" style = \"font-weight: bold; text-align: right;\">6</td><td style = \"text-align: left;\">Brazil</td><td style = \"text-align: left;\">Serbia</td><td style = \"text-align: right;\">0.169095</td><td style = \"text-align: right;\">0.773995</td><td style = \"text-align: right;\">0.05691</td></tr><tr><td class = \"rowNumber\" style = \"font-weight: bold; text-align: right;\">7</td><td style = \"text-align: left;\">Brazil</td><td style = \"text-align: left;\">Switzerland</td><td style = \"text-align: right;\">0.986602</td><td style = \"text-align: right;\">0.0117133</td><td style = \"text-align: right;\">0.00168506</td></tr><tr><td class = \"rowNumber\" style = \"font-weight: bold; text-align: right;\">8</td><td style = \"text-align: left;\">Cameroon</td><td style = \"text-align: left;\">Brazil</td><td style = \"text-align: right;\">0.942382</td><td style = \"text-align: right;\">0.0509663</td><td style = \"text-align: right;\">0.00665153</td></tr></tbody></table></div>"
      ],
      "text/latex": [
       "\\begin{tabular}{r|ccccc}\n",
       "\t& home\\_team & away\\_team & home\\_win & draw & home\\_loss\\\\\n",
       "\t\\hline\n",
       "\t& String15 & String15 & Float64 & Float64 & Float64\\\\\n",
       "\t\\hline\n",
       "\t1 & Argentina & Mexico & 0.998929 & 0.0006162 & 0.000455174 \\\\\n",
       "\t2 & Argentina & Saudi Arabia & 0.979123 & 0.0143582 & 0.00651851 \\\\\n",
       "\t3 & Australia & Denmark & 0.954803 & 0.0345429 & 0.0106539 \\\\\n",
       "\t4 & Belgium & Canada & 0.980443 & 0.0184453 & 0.00111201 \\\\\n",
       "\t5 & Belgium & Morocco & 0.991519 & 0.00806756 & 0.000413186 \\\\\n",
       "\t6 & Brazil & Serbia & 0.169095 & 0.773995 & 0.05691 \\\\\n",
       "\t7 & Brazil & Switzerland & 0.986602 & 0.0117133 & 0.00168506 \\\\\n",
       "\t8 & Cameroon & Brazil & 0.942382 & 0.0509663 & 0.00665153 \\\\\n",
       "\\end{tabular}\n"
      ],
      "text/plain": [
       "\u001b[1m8×5 DataFrame\n",
       "\u001b[1m Row │\u001b[1m home_team \u001b[1m away_team    \u001b[1m home_win \u001b[1m draw       \u001b[1m home_loss\n",
       "     │\u001b[90m String15  \u001b[90m String15     \u001b[90m Float64  \u001b[90m Float64    \u001b[90m Float64\n",
       "─────┼────────────────────────────────────────────────────────────\n",
       "   1 │ Argentina  Mexico        0.998929  0.0006162   0.000455174\n",
       "   2 │ Argentina  Saudi Arabia  0.979123  0.0143582   0.00651851\n",
       "   3 │ Australia  Denmark       0.954803  0.0345429   0.0106539\n",
       "   4 │ Belgium    Canada        0.980443  0.0184453   0.00111201\n",
       "   5 │ Belgium    Morocco       0.991519  0.00806756  0.000413186\n",
       "   6 │ Brazil     Serbia        0.169095  0.773995    0.05691\n",
       "   7 │ Brazil     Switzerland   0.986602  0.0117133   0.00168506\n",
       "   8 │ Cameroon   Brazil        0.942382  0.0509663   0.00665153"
      ]
     },
     "execution_count": 36,
     "metadata": {},
     "output_type": "execute_result"
    }
   ],
   "source": [
    "new_xgb_preds[1:8,:]"
   ]
  },
  {
   "cell_type": "code",
   "execution_count": 37,
   "metadata": {},
   "outputs": [
    {
     "data": {
      "text/html": [
       "<div><div style = \"float: left;\"><span>5×8 DataFrame</span></div><div style = \"clear: both;\"></div></div><div class = \"data-frame\" style = \"overflow-x: scroll;\"><table class = \"data-frame\" style = \"margin-bottom: 6px;\"><thead><tr class = \"header\"><th class = \"rowNumber\" style = \"font-weight: bold; text-align: right;\">Row</th><th style = \"text-align: left;\">home_team</th><th style = \"text-align: left;\">away_team</th><th style = \"text-align: left;\">home_win_earnings_per_dollar</th><th style = \"text-align: left;\">draw_earnings_per_dollar</th><th style = \"text-align: left;\">away_win_earnings_per_dollar</th><th style = \"text-align: left;\">implied_probability_of_home_win</th><th style = \"text-align: left;\">implied_probability_of_draw</th><th style = \"text-align: left;\">implied_probability_of_away_win</th></tr><tr class = \"subheader headerLastRow\"><th class = \"rowNumber\" style = \"font-weight: bold; text-align: right;\"></th><th title = \"String15\" style = \"text-align: left;\">String15</th><th title = \"String15\" style = \"text-align: left;\">String15</th><th title = \"Float64\" style = \"text-align: left;\">Float64</th><th title = \"Float64\" style = \"text-align: left;\">Float64</th><th title = \"Float64\" style = \"text-align: left;\">Float64</th><th title = \"Float64\" style = \"text-align: left;\">Float64</th><th title = \"Float64\" style = \"text-align: left;\">Float64</th><th title = \"Float64\" style = \"text-align: left;\">Float64</th></tr></thead><tbody><tr><td class = \"rowNumber\" style = \"font-weight: bold; text-align: right;\">1</td><td style = \"text-align: left;\">Argentina</td><td style = \"text-align: left;\">Mexico</td><td style = \"text-align: right;\">0.549451</td><td style = \"text-align: right;\">2.95</td><td style = \"text-align: right;\">6.12</td><td style = \"text-align: right;\">0.64539</td><td style = \"text-align: right;\">0.253165</td><td style = \"text-align: right;\">0.140449</td></tr><tr><td class = \"rowNumber\" style = \"font-weight: bold; text-align: right;\">2</td><td style = \"text-align: left;\">Argentina</td><td style = \"text-align: left;\">Saudi Arabia</td><td style = \"text-align: right;\">0.120048</td><td style = \"text-align: right;\">8.21</td><td style = \"text-align: right;\">24.52</td><td style = \"text-align: right;\">0.892819</td><td style = \"text-align: right;\">0.108578</td><td style = \"text-align: right;\">0.039185</td></tr><tr><td class = \"rowNumber\" style = \"font-weight: bold; text-align: right;\">3</td><td style = \"text-align: left;\">Australia</td><td style = \"text-align: left;\">Denmark</td><td style = \"text-align: right;\">6.38</td><td style = \"text-align: right;\">3.88</td><td style = \"text-align: right;\">0.429185</td><td style = \"text-align: right;\">0.135501</td><td style = \"text-align: right;\">0.204918</td><td style = \"text-align: right;\">0.6997</td></tr><tr><td class = \"rowNumber\" style = \"font-weight: bold; text-align: right;\">4</td><td style = \"text-align: left;\">Belgium</td><td style = \"text-align: left;\">Canada</td><td style = \"text-align: right;\">0.900901</td><td style = \"text-align: right;\">2.45</td><td style = \"text-align: right;\">3.51</td><td style = \"text-align: right;\">0.526066</td><td style = \"text-align: right;\">0.289855</td><td style = \"text-align: right;\">0.221729</td></tr><tr><td class = \"rowNumber\" style = \"font-weight: bold; text-align: right;\">5</td><td style = \"text-align: left;\">Belgium</td><td style = \"text-align: left;\">Morocco</td><td style = \"text-align: right;\">0.581395</td><td style = \"text-align: right;\">3.21</td><td style = \"text-align: right;\">4.92</td><td style = \"text-align: right;\">0.632353</td><td style = \"text-align: right;\">0.23753</td><td style = \"text-align: right;\">0.168919</td></tr></tbody></table></div>"
      ],
      "text/latex": [
       "\\begin{tabular}{r|ccccc}\n",
       "\t& home\\_team & away\\_team & home\\_win\\_earnings\\_per\\_dollar & draw\\_earnings\\_per\\_dollar & \\\\\n",
       "\t\\hline\n",
       "\t& String15 & String15 & Float64 & Float64 & \\\\\n",
       "\t\\hline\n",
       "\t1 & Argentina & Mexico & 0.549451 & 2.95 & $\\dots$ \\\\\n",
       "\t2 & Argentina & Saudi Arabia & 0.120048 & 8.21 & $\\dots$ \\\\\n",
       "\t3 & Australia & Denmark & 6.38 & 3.88 & $\\dots$ \\\\\n",
       "\t4 & Belgium & Canada & 0.900901 & 2.45 & $\\dots$ \\\\\n",
       "\t5 & Belgium & Morocco & 0.581395 & 3.21 & $\\dots$ \\\\\n",
       "\\end{tabular}\n"
      ],
      "text/plain": [
       "\u001b[1m5×8 DataFrame\n",
       "\u001b[1m Row │\u001b[1m home_team \u001b[1m away_team    \u001b[1m home_win_earnings_per_dollar \u001b[1m draw_earnings_pe ⋯\n",
       "     │\u001b[90m String15  \u001b[90m String15     \u001b[90m Float64                      \u001b[90m Float64          ⋯\n",
       "─────┼──────────────────────────────────────────────────────────────────────────\n",
       "   1 │ Argentina  Mexico                            0.549451                   ⋯\n",
       "   2 │ Argentina  Saudi Arabia                      0.120048\n",
       "   3 │ Australia  Denmark                           6.38\n",
       "   4 │ Belgium    Canada                            0.900901\n",
       "   5 │ Belgium    Morocco                           0.581395                   ⋯\n",
       "\u001b[36m                                                               5 columns omitted"
      ]
     },
     "execution_count": 37,
     "metadata": {},
     "output_type": "execute_result"
    }
   ],
   "source": [
    "returns[1:5,:]"
   ]
  },
  {
   "cell_type": "code",
   "execution_count": 38,
   "metadata": {},
   "outputs": [],
   "source": [
    "# check if each row of new_xgb_preds and returns are the same\n",
    "for i in 1:size(new_xgb_preds,1)\n",
    "    if new_xgb_preds[i,1] != returns[i,1] || new_xgb_preds[i,2] != returns[i,2]\n",
    "        println(\"XGB and Returns not the same\")\n",
    "    end\n",
    "end\n",
    "\n",
    "# check if each row of new_xgb_preds and real_outcomes are the same\n",
    "for i in 1:size(new_xgb_preds,1)\n",
    "    if new_xgb_preds[i,1] != real_outcomes[i,1] || new_xgb_preds[i,2] != real_outcomes[i,2]\n",
    "        println(\"XGB and Real Outcomes not the same\")\n",
    "    end\n",
    "end\n",
    "\n",
    "# check if returns and real_outcomes are the same\n",
    "for i in 1:size(returns,1)\n",
    "    if returns[i,1] != real_outcomes[i,1] || returns[i,2] != real_outcomes[i,2]\n",
    "        println(\"Returns and Real Outcomes not the same\")\n",
    "    end\n",
    "end"
   ]
  },
  {
   "cell_type": "markdown",
   "metadata": {},
   "source": [
    "## ____________________________________________________________________"
   ]
  },
  {
   "cell_type": "markdown",
   "metadata": {},
   "source": [
    "# Optimal Betting Function"
   ]
  },
  {
   "cell_type": "code",
   "execution_count": 64,
   "metadata": {},
   "outputs": [
    {
     "data": {
      "text/plain": [
       "FIFA2022_GS_Bettings (generic function with 1 method)"
      ]
     },
     "execution_count": 64,
     "metadata": {},
     "output_type": "execute_result"
    }
   ],
   "source": [
    "function FIFA2022_GS_Bettings(P, R, B, K)\n",
    "    \n",
    "    # define model\n",
    "    model = Model(Gurobi.Optimizer)\n",
    "\n",
    "    # define parameters and decision variables\n",
    "    m = size(P, 1)              # 48 group stage matches\n",
    "    n = size(P, 2)              # 3 outcomes\n",
    "\n",
    "    @variable(model, x[i=1:m, j=1:n] >= 0) # x[i,j] is the amount of money bet on outcome j of match i\n",
    "    @variable(model, z[i=1:m, j=1:n], Bin) # z[i,j] is whether you bet on outcome j of match i\n",
    "\n",
    "    # define objective: maximising expected total returns across all matches\n",
    "    @objective(model, Max, sum(P[i,1]*R[i,1]*x[i,1] + \n",
    "                               P[i,2]*R[i,2]*x[i,2] + \n",
    "                               P[i,3]*R[i,3]*x[i,3] - \n",
    "                               sum(x[i,j] for j=1:n) for i=1:m))\n",
    "\n",
    "    # # constraints\n",
    "    # 1) You can only bet on one outcome for each match\n",
    "    @constraint(model, [i=1:m], sum(z[i,j] for j=1:n) <= 1)\n",
    "\n",
    "    # 2) x[i,j] <= B/12*z[i,j] for all i and j\n",
    "    # you can't bet more than 5% of your budget on a single match\n",
    "    @constraint(model, [i=1:m, j=1:n], x[i,j] <= (B/20)*z[i,j])\n",
    "\n",
    "    # 3) Budget constraints\n",
    "    @constraint(model, sum(x[i,j] for j=1:n, i=1:m) <= B)\n",
    "\n",
    "    # 4) You must spread your risk across at least K matches\n",
    "    @constraint(model, sum(z[i,j] for j=1:n, i=1:m) >= K)\n",
    "\n",
    "    # 5) if z = 1, then x > 0\n",
    "    @constraint(model, [i=1:m, j=1:n], x[i,j] >= 1*z[i,j])\n",
    "\n",
    "    # solve model\n",
    "    optimize!(model)\n",
    "\n",
    "    # get optimal bet amounts (x) and how you bet (z)\n",
    "    opt_val = objective_value(model)\n",
    "    x_opt = value.(x)\n",
    "    z_opt = value.(z)\n",
    "\n",
    "    return opt_val, x_opt, z_opt\n",
    "end"
   ]
  },
  {
   "cell_type": "code",
   "execution_count": 65,
   "metadata": {},
   "outputs": [
    {
     "name": "stdout",
     "output_type": "stream",
     "text": [
      "Set parameter Username\n",
      "Academic license - for non-commercial use only - expires 2023-08-19\n",
      "Gurobi Optimizer version 9.5.2 build v9.5.2rc0 (mac64[x86])\n",
      "Thread count: 4 physical cores, 8 logical processors, using up to 8 threads\n",
      "Optimize a model with 338 rows, 288 columns and 1008 nonzeros\n",
      "Model fingerprint: 0x3a294fae\n",
      "Variable types: 144 continuous, 144 integer (144 binary)\n",
      "Coefficient statistics:\n",
      "  Matrix range     [1e+00, 2e+02]\n",
      "  Objective range  [7e-02, 2e+01]\n",
      "  Bounds range     [0e+00, 0e+00]\n",
      "  RHS range        [1e+00, 5e+03]\n",
      "Found heuristic solution: objective 1951.0988708\n",
      "Presolve removed 243 rows and 178 columns\n",
      "Presolve time: 0.00s\n",
      "Presolved: 95 rows, 110 columns, 344 nonzeros\n",
      "Variable types: 0 continuous, 110 integer (79 binary)\n",
      "Found heuristic solution: objective 2034.4685225\n",
      "\n",
      "Root relaxation: objective 2.245316e+04, 23 iterations, 0.00 seconds (0.00 work units)\n",
      "\n",
      "    Nodes    |    Current Node    |     Objective Bounds      |     Work\n",
      " Expl Unexpl |  Obj  Depth IntInf | Incumbent    BestBd   Gap | It/Node Time\n",
      "\n",
      "*    0     0               0    22453.161511 22453.1615  0.00%     -    0s\n",
      "\n",
      "Explored 1 nodes (23 simplex iterations) in 0.00 seconds (0.00 work units)\n",
      "Thread count was 8 (of 8 available processors)\n",
      "\n",
      "Solution count 3: 22453.2 2034.47 1951.1 \n",
      "\n",
      "Optimal solution found (tolerance 1.00e-04)\n",
      "Best objective 2.245316151060e+04, best bound 2.245316151060e+04, gap 0.0000%\n",
      "\n",
      "User-callback calls 311, time in user-callback 0.00 sec\n"
     ]
    }
   ],
   "source": [
    "exp_prof, x_opt, z_opt = FIFA2022_GS_Bettings(new_xgb_probs, returns_matrix, 5000, 5);"
   ]
  },
  {
   "cell_type": "code",
   "execution_count": 66,
   "metadata": {},
   "outputs": [
    {
     "data": {
      "text/plain": [
       "20-element Vector{CartesianIndex{2}}:\n",
       " CartesianIndex(3, 1)\n",
       " CartesianIndex(8, 1)\n",
       " CartesianIndex(9, 1)\n",
       " CartesianIndex(10, 1)\n",
       " CartesianIndex(11, 1)\n",
       " CartesianIndex(12, 1)\n",
       " CartesianIndex(24, 1)\n",
       " CartesianIndex(26, 1)\n",
       " CartesianIndex(31, 1)\n",
       " CartesianIndex(35, 1)\n",
       " CartesianIndex(37, 1)\n",
       " CartesianIndex(38, 1)\n",
       " CartesianIndex(6, 2)\n",
       " CartesianIndex(20, 2)\n",
       " CartesianIndex(19, 3)\n",
       " CartesianIndex(23, 3)\n",
       " CartesianIndex(33, 3)\n",
       " CartesianIndex(40, 3)\n",
       " CartesianIndex(42, 3)\n",
       " CartesianIndex(43, 3)"
      ]
     },
     "execution_count": 66,
     "metadata": {},
     "output_type": "execute_result"
    }
   ],
   "source": [
    "# which matches to bet on\n",
    "betting_matches = findall(x -> x >= 1, z_opt)"
   ]
  },
  {
   "cell_type": "code",
   "execution_count": 67,
   "metadata": {},
   "outputs": [
    {
     "data": {
      "text/plain": [
       "20-element Vector{Int64}:\n",
       " 1\n",
       " 1\n",
       " 1\n",
       " 1\n",
       " 1\n",
       " 1\n",
       " 1\n",
       " 1\n",
       " 1\n",
       " 1\n",
       " 1\n",
       " 1\n",
       " 2\n",
       " 2\n",
       " 3\n",
       " 3\n",
       " 3\n",
       " 3\n",
       " 3\n",
       " 3"
      ]
     },
     "execution_count": 67,
     "metadata": {},
     "output_type": "execute_result"
    }
   ],
   "source": [
    "# make betting matches into list of first index of tuples\n",
    "betting_matches_list = [x[1] for x in betting_matches]\n",
    "betting_matches_outcomes = [x[2] for x in betting_matches]\n",
    "\n",
    "betting_matches_outcomes"
   ]
  },
  {
   "cell_type": "code",
   "execution_count": 68,
   "metadata": {},
   "outputs": [
    {
     "data": {
      "text/html": [
       "<div><div style = \"float: left;\"><span>DataFrameRow (5 columns)</span></div><div style = \"clear: both;\"></div></div><div class = \"data-frame\" style = \"overflow-x: scroll;\"><table class = \"data-frame\" style = \"margin-bottom: 6px;\"><thead><tr class = \"header\"><th class = \"rowLabel\" style = \"font-weight: bold; text-align: right;\">Row</th><th style = \"text-align: left;\">home_team</th><th style = \"text-align: left;\">away_team</th><th style = \"text-align: left;\">home_win</th><th style = \"text-align: left;\">draw</th><th style = \"text-align: left;\">home_loss</th></tr><tr class = \"subheader headerLastRow\"><th class = \"rowLabel\" style = \"font-weight: bold; text-align: right;\"></th><th title = \"String15\" style = \"text-align: left;\">String15</th><th title = \"String15\" style = \"text-align: left;\">String15</th><th title = \"Float64\" style = \"text-align: left;\">Float64</th><th title = \"Float64\" style = \"text-align: left;\">Float64</th><th title = \"Float64\" style = \"text-align: left;\">Float64</th></tr></thead><tbody><tr><td class = \"rowLabel\" style = \"font-weight: bold; text-align: right;\">3</td><td style = \"text-align: left;\">Australia</td><td style = \"text-align: left;\">Denmark</td><td style = \"text-align: right;\">0.954803</td><td style = \"text-align: right;\">0.0345429</td><td style = \"text-align: right;\">0.0106539</td></tr></tbody></table></div>"
      ],
      "text/latex": [
       "\\begin{tabular}{r|ccccc}\n",
       "\t& home\\_team & away\\_team & home\\_win & draw & home\\_loss\\\\\n",
       "\t\\hline\n",
       "\t& String15 & String15 & Float64 & Float64 & Float64\\\\\n",
       "\t\\hline\n",
       "\t3 & Australia & Denmark & 0.954803 & 0.0345429 & 0.0106539 \\\\\n",
       "\\end{tabular}\n"
      ],
      "text/plain": [
       "\u001b[1mDataFrameRow\n",
       "\u001b[1m Row │\u001b[1m home_team \u001b[1m away_team \u001b[1m home_win \u001b[1m draw      \u001b[1m home_loss\n",
       "     │\u001b[90m String15  \u001b[90m String15  \u001b[90m Float64  \u001b[90m Float64   \u001b[90m Float64\n",
       "─────┼──────────────────────────────────────────────────────\n",
       "   3 │ Australia  Denmark    0.954803  0.0345429  0.0106539"
      ]
     },
     "execution_count": 68,
     "metadata": {},
     "output_type": "execute_result"
    }
   ],
   "source": [
    "new_xgb_preds[3,:]"
   ]
  },
  {
   "cell_type": "code",
   "execution_count": 69,
   "metadata": {},
   "outputs": [
    {
     "data": {
      "text/plain": [
       "3-element Vector{Float64}:\n",
       " 250.0\n",
       "   0.0\n",
       "   0.0"
      ]
     },
     "execution_count": 69,
     "metadata": {},
     "output_type": "execute_result"
    }
   ],
   "source": [
    "x_opt[3,:]"
   ]
  },
  {
   "cell_type": "code",
   "execution_count": 70,
   "metadata": {},
   "outputs": [
    {
     "data": {
      "text/html": [
       "<div><div style = \"float: left;\"><span>DataFrameRow (8 columns)</span></div><div style = \"clear: both;\"></div></div><div class = \"data-frame\" style = \"overflow-x: scroll;\"><table class = \"data-frame\" style = \"margin-bottom: 6px;\"><thead><tr class = \"header\"><th class = \"rowLabel\" style = \"font-weight: bold; text-align: right;\">Row</th><th style = \"text-align: left;\">home_team</th><th style = \"text-align: left;\">away_team</th><th style = \"text-align: left;\">home_win_earnings_per_dollar</th><th style = \"text-align: left;\">draw_earnings_per_dollar</th><th style = \"text-align: left;\">away_win_earnings_per_dollar</th><th style = \"text-align: left;\">implied_probability_of_home_win</th><th style = \"text-align: left;\">implied_probability_of_draw</th><th style = \"text-align: left;\">implied_probability_of_away_win</th></tr><tr class = \"subheader headerLastRow\"><th class = \"rowLabel\" style = \"font-weight: bold; text-align: right;\"></th><th title = \"String15\" style = \"text-align: left;\">String15</th><th title = \"String15\" style = \"text-align: left;\">String15</th><th title = \"Float64\" style = \"text-align: left;\">Float64</th><th title = \"Float64\" style = \"text-align: left;\">Float64</th><th title = \"Float64\" style = \"text-align: left;\">Float64</th><th title = \"Float64\" style = \"text-align: left;\">Float64</th><th title = \"Float64\" style = \"text-align: left;\">Float64</th><th title = \"Float64\" style = \"text-align: left;\">Float64</th></tr></thead><tbody><tr><td class = \"rowLabel\" style = \"font-weight: bold; text-align: right;\">11</td><td style = \"text-align: left;\">Costa Rica</td><td style = \"text-align: left;\">Germany</td><td style = \"text-align: right;\">22.79</td><td style = \"text-align: right;\">10.17</td><td style = \"text-align: right;\">0.1</td><td style = \"text-align: right;\">0.0420345</td><td style = \"text-align: right;\">0.0895255</td><td style = \"text-align: right;\">0.909091</td></tr></tbody></table></div>"
      ],
      "text/latex": [
       "\\begin{tabular}{r|cccccc}\n",
       "\t& home\\_team & away\\_team & home\\_win\\_earnings\\_per\\_dollar & draw\\_earnings\\_per\\_dollar & away\\_win\\_earnings\\_per\\_dollar & \\\\\n",
       "\t\\hline\n",
       "\t& String15 & String15 & Float64 & Float64 & Float64 & \\\\\n",
       "\t\\hline\n",
       "\t11 & Costa Rica & Germany & 22.79 & 10.17 & 0.1 & $\\dots$ \\\\\n",
       "\\end{tabular}\n"
      ],
      "text/plain": [
       "\u001b[1mDataFrameRow\n",
       "\u001b[1m Row │\u001b[1m home_team  \u001b[1m away_team \u001b[1m home_win_earnings_per_dollar \u001b[1m draw_earnings_per_ ⋯\n",
       "     │\u001b[90m String15   \u001b[90m String15  \u001b[90m Float64                      \u001b[90m Float64            ⋯\n",
       "─────┼──────────────────────────────────────────────────────────────────────────\n",
       "  11 │ Costa Rica  Germany                           22.79                     ⋯\n",
       "\u001b[36m                                                               5 columns omitted"
      ]
     },
     "execution_count": 70,
     "metadata": {},
     "output_type": "execute_result"
    }
   ],
   "source": [
    "returns[11,:]"
   ]
  },
  {
   "cell_type": "code",
   "execution_count": 71,
   "metadata": {},
   "outputs": [
    {
     "data": {
      "text/html": [
       "<div><div style = \"float: left;\"><span>20×5 DataFrame</span></div><div style = \"clear: both;\"></div></div><div class = \"data-frame\" style = \"overflow-x: scroll;\"><table class = \"data-frame\" style = \"margin-bottom: 6px;\"><thead><tr class = \"header\"><th class = \"rowNumber\" style = \"font-weight: bold; text-align: right;\">Row</th><th style = \"text-align: left;\">home_team</th><th style = \"text-align: left;\">away_team</th><th style = \"text-align: left;\">home_win</th><th style = \"text-align: left;\">draw</th><th style = \"text-align: left;\">home_loss</th></tr><tr class = \"subheader headerLastRow\"><th class = \"rowNumber\" style = \"font-weight: bold; text-align: right;\"></th><th title = \"String15\" style = \"text-align: left;\">String15</th><th title = \"String15\" style = \"text-align: left;\">String15</th><th title = \"Float64\" style = \"text-align: left;\">Float64</th><th title = \"Float64\" style = \"text-align: left;\">Float64</th><th title = \"Float64\" style = \"text-align: left;\">Float64</th></tr></thead><tbody><tr><td class = \"rowNumber\" style = \"font-weight: bold; text-align: right;\">1</td><td style = \"text-align: left;\">Australia</td><td style = \"text-align: left;\">Denmark</td><td style = \"text-align: right;\">0.954803</td><td style = \"text-align: right;\">0.0345429</td><td style = \"text-align: right;\">0.0106539</td></tr><tr><td class = \"rowNumber\" style = \"font-weight: bold; text-align: right;\">2</td><td style = \"text-align: left;\">Cameroon</td><td style = \"text-align: left;\">Brazil</td><td style = \"text-align: right;\">0.942382</td><td style = \"text-align: right;\">0.0509663</td><td style = \"text-align: right;\">0.00665153</td></tr><tr><td class = \"rowNumber\" style = \"font-weight: bold; text-align: right;\">3</td><td style = \"text-align: left;\">Cameroon</td><td style = \"text-align: left;\">Serbia</td><td style = \"text-align: right;\">0.891956</td><td style = \"text-align: right;\">0.0729</td><td style = \"text-align: right;\">0.035144</td></tr><tr><td class = \"rowNumber\" style = \"font-weight: bold; text-align: right;\">4</td><td style = \"text-align: left;\">Canada</td><td style = \"text-align: left;\">Morocco</td><td style = \"text-align: right;\">0.88168</td><td style = \"text-align: right;\">0.0102742</td><td style = \"text-align: right;\">0.108046</td></tr><tr><td class = \"rowNumber\" style = \"font-weight: bold; text-align: right;\">5</td><td style = \"text-align: left;\">Costa Rica</td><td style = \"text-align: left;\">Germany</td><td style = \"text-align: right;\">0.978623</td><td style = \"text-align: right;\">0.0184663</td><td style = \"text-align: right;\">0.00291089</td></tr><tr><td class = \"rowNumber\" style = \"font-weight: bold; text-align: right;\">6</td><td style = \"text-align: left;\">Croatia</td><td style = \"text-align: left;\">Belgium</td><td style = \"text-align: right;\">0.932715</td><td style = \"text-align: right;\">0.0640844</td><td style = \"text-align: right;\">0.00320028</td></tr><tr><td class = \"rowNumber\" style = \"font-weight: bold; text-align: right;\">7</td><td style = \"text-align: left;\">Japan</td><td style = \"text-align: left;\">Spain</td><td style = \"text-align: right;\">0.989969</td><td style = \"text-align: right;\">0.00867209</td><td style = \"text-align: right;\">0.00135936</td></tr><tr><td class = \"rowNumber\" style = \"font-weight: bold; text-align: right;\">8</td><td style = \"text-align: left;\">Korea Republic</td><td style = \"text-align: left;\">Portugal</td><td style = \"text-align: right;\">0.912574</td><td style = \"text-align: right;\">0.0279381</td><td style = \"text-align: right;\">0.0594874</td></tr><tr><td class = \"rowNumber\" style = \"font-weight: bold; text-align: right;\">9</td><td style = \"text-align: left;\">Poland</td><td style = \"text-align: left;\">Argentina</td><td style = \"text-align: right;\">0.99983</td><td style = \"text-align: right;\">0.000126039</td><td style = \"text-align: right;\">4.36873e-5</td></tr><tr><td class = \"rowNumber\" style = \"font-weight: bold; text-align: right;\">10</td><td style = \"text-align: left;\">Qatar</td><td style = \"text-align: left;\">Ecuador</td><td style = \"text-align: right;\">0.976657</td><td style = \"text-align: right;\">0.00288333</td><td style = \"text-align: right;\">0.02046</td></tr><tr><td class = \"rowNumber\" style = \"font-weight: bold; text-align: right;\">11</td><td style = \"text-align: left;\">Saudi Arabia</td><td style = \"text-align: left;\">Mexico</td><td style = \"text-align: right;\">0.999698</td><td style = \"text-align: right;\">0.00016969</td><td style = \"text-align: right;\">0.000132438</td></tr><tr><td class = \"rowNumber\" style = \"font-weight: bold; text-align: right;\">12</td><td style = \"text-align: left;\">Senegal</td><td style = \"text-align: left;\">Netherlands</td><td style = \"text-align: right;\">0.9995</td><td style = \"text-align: right;\">0.00042588</td><td style = \"text-align: right;\">7.41291e-5</td></tr><tr><td class = \"rowNumber\" style = \"font-weight: bold; text-align: right;\">13</td><td style = \"text-align: left;\">Brazil</td><td style = \"text-align: left;\">Serbia</td><td style = \"text-align: right;\">0.169095</td><td style = \"text-align: right;\">0.773995</td><td style = \"text-align: right;\">0.05691</td></tr><tr><td class = \"rowNumber\" style = \"font-weight: bold; text-align: right;\">14</td><td style = \"text-align: left;\">Germany</td><td style = \"text-align: left;\">Japan</td><td style = \"text-align: right;\">0.118089</td><td style = \"text-align: right;\">0.84444</td><td style = \"text-align: right;\">0.0374713</td></tr><tr><td class = \"rowNumber\" style = \"font-weight: bold; text-align: right;\">15</td><td style = \"text-align: left;\">France</td><td style = \"text-align: left;\">Denmark</td><td style = \"text-align: right;\">0.75652</td><td style = \"text-align: right;\">0.0228109</td><td style = \"text-align: right;\">0.220669</td></tr><tr><td class = \"rowNumber\" style = \"font-weight: bold; text-align: right;\">16</td><td style = \"text-align: left;\">Japan</td><td style = \"text-align: left;\">Costa Rica</td><td style = \"text-align: right;\">0.377473</td><td style = \"text-align: right;\">0.216131</td><td style = \"text-align: right;\">0.406396</td></tr><tr><td class = \"rowNumber\" style = \"font-weight: bold; text-align: right;\">17</td><td style = \"text-align: left;\">Portugal</td><td style = \"text-align: left;\">Ghana</td><td style = \"text-align: right;\">0.00202424</td><td style = \"text-align: right;\">0.00299211</td><td style = \"text-align: right;\">0.994984</td></tr><tr><td class = \"rowNumber\" style = \"font-weight: bold; text-align: right;\">18</td><td style = \"text-align: left;\">Spain</td><td style = \"text-align: left;\">Costa Rica</td><td style = \"text-align: right;\">0.0200075</td><td style = \"text-align: right;\">0.0141564</td><td style = \"text-align: right;\">0.965836</td></tr><tr><td class = \"rowNumber\" style = \"font-weight: bold; text-align: right;\">19</td><td style = \"text-align: left;\">Switzerland</td><td style = \"text-align: left;\">Cameroon</td><td style = \"text-align: right;\">0.245646</td><td style = \"text-align: right;\">0.20531</td><td style = \"text-align: right;\">0.549044</td></tr><tr><td class = \"rowNumber\" style = \"font-weight: bold; text-align: right;\">20</td><td style = \"text-align: left;\">Tunisia</td><td style = \"text-align: left;\">Australia</td><td style = \"text-align: right;\">0.14659</td><td style = \"text-align: right;\">0.00531972</td><td style = \"text-align: right;\">0.84809</td></tr></tbody></table></div>"
      ],
      "text/latex": [
       "\\begin{tabular}{r|ccccc}\n",
       "\t& home\\_team & away\\_team & home\\_win & draw & home\\_loss\\\\\n",
       "\t\\hline\n",
       "\t& String15 & String15 & Float64 & Float64 & Float64\\\\\n",
       "\t\\hline\n",
       "\t1 & Australia & Denmark & 0.954803 & 0.0345429 & 0.0106539 \\\\\n",
       "\t2 & Cameroon & Brazil & 0.942382 & 0.0509663 & 0.00665153 \\\\\n",
       "\t3 & Cameroon & Serbia & 0.891956 & 0.0729 & 0.035144 \\\\\n",
       "\t4 & Canada & Morocco & 0.88168 & 0.0102742 & 0.108046 \\\\\n",
       "\t5 & Costa Rica & Germany & 0.978623 & 0.0184663 & 0.00291089 \\\\\n",
       "\t6 & Croatia & Belgium & 0.932715 & 0.0640844 & 0.00320028 \\\\\n",
       "\t7 & Japan & Spain & 0.989969 & 0.00867209 & 0.00135936 \\\\\n",
       "\t8 & Korea Republic & Portugal & 0.912574 & 0.0279381 & 0.0594874 \\\\\n",
       "\t9 & Poland & Argentina & 0.99983 & 0.000126039 & 4.36873e-5 \\\\\n",
       "\t10 & Qatar & Ecuador & 0.976657 & 0.00288333 & 0.02046 \\\\\n",
       "\t11 & Saudi Arabia & Mexico & 0.999698 & 0.00016969 & 0.000132438 \\\\\n",
       "\t12 & Senegal & Netherlands & 0.9995 & 0.00042588 & 7.41291e-5 \\\\\n",
       "\t13 & Brazil & Serbia & 0.169095 & 0.773995 & 0.05691 \\\\\n",
       "\t14 & Germany & Japan & 0.118089 & 0.84444 & 0.0374713 \\\\\n",
       "\t15 & France & Denmark & 0.75652 & 0.0228109 & 0.220669 \\\\\n",
       "\t16 & Japan & Costa Rica & 0.377473 & 0.216131 & 0.406396 \\\\\n",
       "\t17 & Portugal & Ghana & 0.00202424 & 0.00299211 & 0.994984 \\\\\n",
       "\t18 & Spain & Costa Rica & 0.0200075 & 0.0141564 & 0.965836 \\\\\n",
       "\t19 & Switzerland & Cameroon & 0.245646 & 0.20531 & 0.549044 \\\\\n",
       "\t20 & Tunisia & Australia & 0.14659 & 0.00531972 & 0.84809 \\\\\n",
       "\\end{tabular}\n"
      ],
      "text/plain": [
       "\u001b[1m20×5 DataFrame\n",
       "\u001b[1m Row │\u001b[1m home_team      \u001b[1m away_team   \u001b[1m home_win   \u001b[1m draw        \u001b[1m home_loss\n",
       "     │\u001b[90m String15       \u001b[90m String15    \u001b[90m Float64    \u001b[90m Float64     \u001b[90m Float64\n",
       "─────┼───────────────────────────────────────────────────────────────────\n",
       "   1 │ Australia       Denmark      0.954803    0.0345429    0.0106539\n",
       "   2 │ Cameroon        Brazil       0.942382    0.0509663    0.00665153\n",
       "   3 │ Cameroon        Serbia       0.891956    0.0729       0.035144\n",
       "   4 │ Canada          Morocco      0.88168     0.0102742    0.108046\n",
       "   5 │ Costa Rica      Germany      0.978623    0.0184663    0.00291089\n",
       "   6 │ Croatia         Belgium      0.932715    0.0640844    0.00320028\n",
       "   7 │ Japan           Spain        0.989969    0.00867209   0.00135936\n",
       "   8 │ Korea Republic  Portugal     0.912574    0.0279381    0.0594874\n",
       "   9 │ Poland          Argentina    0.99983     0.000126039  4.36873e-5\n",
       "  10 │ Qatar           Ecuador      0.976657    0.00288333   0.02046\n",
       "  11 │ Saudi Arabia    Mexico       0.999698    0.00016969   0.000132438\n",
       "  12 │ Senegal         Netherlands  0.9995      0.00042588   7.41291e-5\n",
       "  13 │ Brazil          Serbia       0.169095    0.773995     0.05691\n",
       "  14 │ Germany         Japan        0.118089    0.84444      0.0374713\n",
       "  15 │ France          Denmark      0.75652     0.0228109    0.220669\n",
       "  16 │ Japan           Costa Rica   0.377473    0.216131     0.406396\n",
       "  17 │ Portugal        Ghana        0.00202424  0.00299211   0.994984\n",
       "  18 │ Spain           Costa Rica   0.0200075   0.0141564    0.965836\n",
       "  19 │ Switzerland     Cameroon     0.245646    0.20531      0.549044\n",
       "  20 │ Tunisia         Australia    0.14659     0.00531972   0.84809"
      ]
     },
     "execution_count": 71,
     "metadata": {},
     "output_type": "execute_result"
    }
   ],
   "source": [
    "outcomes = new_xgb_preds[betting_matches_list,:]"
   ]
  },
  {
   "cell_type": "code",
   "execution_count": 72,
   "metadata": {},
   "outputs": [],
   "source": [
    "outcomes[:,\"bet_amount\"] = [x_opt[i] for i in betting_matches];"
   ]
  },
  {
   "cell_type": "code",
   "execution_count": 73,
   "metadata": {},
   "outputs": [
    {
     "data": {
      "text/plain": [
       "20-element Vector{Int64}:\n",
       " 1\n",
       " 1\n",
       " 2\n",
       " 3\n",
       " 3\n",
       " 2\n",
       " 1\n",
       " 1\n",
       " 3\n",
       " 3\n",
       " 3\n",
       " 3\n",
       " 1\n",
       " 3\n",
       " 1\n",
       " 3\n",
       " 1\n",
       " 1\n",
       " 1\n",
       " 3"
      ]
     },
     "execution_count": 73,
     "metadata": {},
     "output_type": "execute_result"
    }
   ],
   "source": [
    "# # rf_pred_outcomes\n",
    "# outcomes[:,\"actual_outcome\"] = [1,3,3,2,1];\n",
    "\n",
    "# # new_xgb_pred_outcomes (fill out)\n",
    "# outcomes[:,\"actual_outcome\"]=real_\n",
    "\n",
    "# take real match outcomes from the real_outcomes dataframe by taking the corresponding indices from betting_matches_list\n",
    "outcomes[:,\"actual_outcome\"] = [real_outcomes[i,4] for i in betting_matches_list]"
   ]
  },
  {
   "cell_type": "code",
   "execution_count": 74,
   "metadata": {},
   "outputs": [],
   "source": [
    "outcomes[:,\"bet_outcome\"] = [x[2] for x in betting_matches];"
   ]
  },
  {
   "cell_type": "code",
   "execution_count": 75,
   "metadata": {},
   "outputs": [],
   "source": [
    "# is actual_outcome = bet_outcome?\n",
    "outcomes[:,\"correct\"] = outcomes[:,\"actual_outcome\"] .== outcomes[:,\"bet_outcome\"];"
   ]
  },
  {
   "cell_type": "code",
   "execution_count": 76,
   "metadata": {},
   "outputs": [
    {
     "data": {
      "text/plain": [
       "18953.161510600006"
      ]
     },
     "execution_count": 76,
     "metadata": {},
     "output_type": "execute_result"
    }
   ],
   "source": [
    "# bet result: if correct == false, then bet_result = -bet_amount, if correct == true, then bet_result = bet_amount*\n",
    "bet_result = exp_prof - sum(outcomes[:,\"bet_amount\"].* (outcomes[:,\"correct\"].==false))"
   ]
  },
  {
   "cell_type": "code",
   "execution_count": 77,
   "metadata": {},
   "outputs": [
    {
     "data": {
      "text/plain": [
       "18953.161510600006"
      ]
     },
     "execution_count": 77,
     "metadata": {},
     "output_type": "execute_result"
    }
   ],
   "source": [
    "exp_prof-sum(outcomes[:,\"bet_amount\"].*(outcomes[:,\"correct\"].==false))"
   ]
  },
  {
   "cell_type": "code",
   "execution_count": 78,
   "metadata": {},
   "outputs": [
    {
     "data": {
      "text/html": [
       "<div><div style = \"float: left;\"><span>20×9 DataFrame</span></div><div style = \"clear: both;\"></div></div><div class = \"data-frame\" style = \"overflow-x: scroll;\"><table class = \"data-frame\" style = \"margin-bottom: 6px;\"><thead><tr class = \"header\"><th class = \"rowNumber\" style = \"font-weight: bold; text-align: right;\">Row</th><th style = \"text-align: left;\">home_team</th><th style = \"text-align: left;\">away_team</th><th style = \"text-align: left;\">home_win</th><th style = \"text-align: left;\">draw</th><th style = \"text-align: left;\">home_loss</th><th style = \"text-align: left;\">bet_amount</th><th style = \"text-align: left;\">actual_outcome</th><th style = \"text-align: left;\">bet_outcome</th><th style = \"text-align: left;\">correct</th></tr><tr class = \"subheader headerLastRow\"><th class = \"rowNumber\" style = \"font-weight: bold; text-align: right;\"></th><th title = \"String15\" style = \"text-align: left;\">String15</th><th title = \"String15\" style = \"text-align: left;\">String15</th><th title = \"Float64\" style = \"text-align: left;\">Float64</th><th title = \"Float64\" style = \"text-align: left;\">Float64</th><th title = \"Float64\" style = \"text-align: left;\">Float64</th><th title = \"Float64\" style = \"text-align: left;\">Float64</th><th title = \"Int64\" style = \"text-align: left;\">Int64</th><th title = \"Int64\" style = \"text-align: left;\">Int64</th><th title = \"Bool\" style = \"text-align: left;\">Bool</th></tr></thead><tbody><tr><td class = \"rowNumber\" style = \"font-weight: bold; text-align: right;\">1</td><td style = \"text-align: left;\">Australia</td><td style = \"text-align: left;\">Denmark</td><td style = \"text-align: right;\">0.954803</td><td style = \"text-align: right;\">0.0345429</td><td style = \"text-align: right;\">0.0106539</td><td style = \"text-align: right;\">250.0</td><td style = \"text-align: right;\">1</td><td style = \"text-align: right;\">1</td><td style = \"text-align: right;\">true</td></tr><tr><td class = \"rowNumber\" style = \"font-weight: bold; text-align: right;\">2</td><td style = \"text-align: left;\">Cameroon</td><td style = \"text-align: left;\">Brazil</td><td style = \"text-align: right;\">0.942382</td><td style = \"text-align: right;\">0.0509663</td><td style = \"text-align: right;\">0.00665153</td><td style = \"text-align: right;\">250.0</td><td style = \"text-align: right;\">1</td><td style = \"text-align: right;\">1</td><td style = \"text-align: right;\">true</td></tr><tr><td class = \"rowNumber\" style = \"font-weight: bold; text-align: right;\">3</td><td style = \"text-align: left;\">Cameroon</td><td style = \"text-align: left;\">Serbia</td><td style = \"text-align: right;\">0.891956</td><td style = \"text-align: right;\">0.0729</td><td style = \"text-align: right;\">0.035144</td><td style = \"text-align: right;\">250.0</td><td style = \"text-align: right;\">2</td><td style = \"text-align: right;\">1</td><td style = \"text-align: right;\">false</td></tr><tr><td class = \"rowNumber\" style = \"font-weight: bold; text-align: right;\">4</td><td style = \"text-align: left;\">Canada</td><td style = \"text-align: left;\">Morocco</td><td style = \"text-align: right;\">0.88168</td><td style = \"text-align: right;\">0.0102742</td><td style = \"text-align: right;\">0.108046</td><td style = \"text-align: right;\">250.0</td><td style = \"text-align: right;\">3</td><td style = \"text-align: right;\">1</td><td style = \"text-align: right;\">false</td></tr><tr><td class = \"rowNumber\" style = \"font-weight: bold; text-align: right;\">5</td><td style = \"text-align: left;\">Costa Rica</td><td style = \"text-align: left;\">Germany</td><td style = \"text-align: right;\">0.978623</td><td style = \"text-align: right;\">0.0184663</td><td style = \"text-align: right;\">0.00291089</td><td style = \"text-align: right;\">250.0</td><td style = \"text-align: right;\">3</td><td style = \"text-align: right;\">1</td><td style = \"text-align: right;\">false</td></tr><tr><td class = \"rowNumber\" style = \"font-weight: bold; text-align: right;\">6</td><td style = \"text-align: left;\">Croatia</td><td style = \"text-align: left;\">Belgium</td><td style = \"text-align: right;\">0.932715</td><td style = \"text-align: right;\">0.0640844</td><td style = \"text-align: right;\">0.00320028</td><td style = \"text-align: right;\">250.0</td><td style = \"text-align: right;\">2</td><td style = \"text-align: right;\">1</td><td style = \"text-align: right;\">false</td></tr><tr><td class = \"rowNumber\" style = \"font-weight: bold; text-align: right;\">7</td><td style = \"text-align: left;\">Japan</td><td style = \"text-align: left;\">Spain</td><td style = \"text-align: right;\">0.989969</td><td style = \"text-align: right;\">0.00867209</td><td style = \"text-align: right;\">0.00135936</td><td style = \"text-align: right;\">250.0</td><td style = \"text-align: right;\">1</td><td style = \"text-align: right;\">1</td><td style = \"text-align: right;\">true</td></tr><tr><td class = \"rowNumber\" style = \"font-weight: bold; text-align: right;\">8</td><td style = \"text-align: left;\">Korea Republic</td><td style = \"text-align: left;\">Portugal</td><td style = \"text-align: right;\">0.912574</td><td style = \"text-align: right;\">0.0279381</td><td style = \"text-align: right;\">0.0594874</td><td style = \"text-align: right;\">250.0</td><td style = \"text-align: right;\">1</td><td style = \"text-align: right;\">1</td><td style = \"text-align: right;\">true</td></tr><tr><td class = \"rowNumber\" style = \"font-weight: bold; text-align: right;\">9</td><td style = \"text-align: left;\">Poland</td><td style = \"text-align: left;\">Argentina</td><td style = \"text-align: right;\">0.99983</td><td style = \"text-align: right;\">0.000126039</td><td style = \"text-align: right;\">4.36873e-5</td><td style = \"text-align: right;\">250.0</td><td style = \"text-align: right;\">3</td><td style = \"text-align: right;\">1</td><td style = \"text-align: right;\">false</td></tr><tr><td class = \"rowNumber\" style = \"font-weight: bold; text-align: right;\">10</td><td style = \"text-align: left;\">Qatar</td><td style = \"text-align: left;\">Ecuador</td><td style = \"text-align: right;\">0.976657</td><td style = \"text-align: right;\">0.00288333</td><td style = \"text-align: right;\">0.02046</td><td style = \"text-align: right;\">250.0</td><td style = \"text-align: right;\">3</td><td style = \"text-align: right;\">1</td><td style = \"text-align: right;\">false</td></tr><tr><td class = \"rowNumber\" style = \"font-weight: bold; text-align: right;\">11</td><td style = \"text-align: left;\">Saudi Arabia</td><td style = \"text-align: left;\">Mexico</td><td style = \"text-align: right;\">0.999698</td><td style = \"text-align: right;\">0.00016969</td><td style = \"text-align: right;\">0.000132438</td><td style = \"text-align: right;\">250.0</td><td style = \"text-align: right;\">3</td><td style = \"text-align: right;\">1</td><td style = \"text-align: right;\">false</td></tr><tr><td class = \"rowNumber\" style = \"font-weight: bold; text-align: right;\">12</td><td style = \"text-align: left;\">Senegal</td><td style = \"text-align: left;\">Netherlands</td><td style = \"text-align: right;\">0.9995</td><td style = \"text-align: right;\">0.00042588</td><td style = \"text-align: right;\">7.41291e-5</td><td style = \"text-align: right;\">250.0</td><td style = \"text-align: right;\">3</td><td style = \"text-align: right;\">1</td><td style = \"text-align: right;\">false</td></tr><tr><td class = \"rowNumber\" style = \"font-weight: bold; text-align: right;\">13</td><td style = \"text-align: left;\">Brazil</td><td style = \"text-align: left;\">Serbia</td><td style = \"text-align: right;\">0.169095</td><td style = \"text-align: right;\">0.773995</td><td style = \"text-align: right;\">0.05691</td><td style = \"text-align: right;\">250.0</td><td style = \"text-align: right;\">1</td><td style = \"text-align: right;\">2</td><td style = \"text-align: right;\">false</td></tr><tr><td class = \"rowNumber\" style = \"font-weight: bold; text-align: right;\">14</td><td style = \"text-align: left;\">Germany</td><td style = \"text-align: left;\">Japan</td><td style = \"text-align: right;\">0.118089</td><td style = \"text-align: right;\">0.84444</td><td style = \"text-align: right;\">0.0374713</td><td style = \"text-align: right;\">250.0</td><td style = \"text-align: right;\">3</td><td style = \"text-align: right;\">2</td><td style = \"text-align: right;\">false</td></tr><tr><td class = \"rowNumber\" style = \"font-weight: bold; text-align: right;\">15</td><td style = \"text-align: left;\">France</td><td style = \"text-align: left;\">Denmark</td><td style = \"text-align: right;\">0.75652</td><td style = \"text-align: right;\">0.0228109</td><td style = \"text-align: right;\">0.220669</td><td style = \"text-align: right;\">250.0</td><td style = \"text-align: right;\">1</td><td style = \"text-align: right;\">3</td><td style = \"text-align: right;\">false</td></tr><tr><td class = \"rowNumber\" style = \"font-weight: bold; text-align: right;\">16</td><td style = \"text-align: left;\">Japan</td><td style = \"text-align: left;\">Costa Rica</td><td style = \"text-align: right;\">0.377473</td><td style = \"text-align: right;\">0.216131</td><td style = \"text-align: right;\">0.406396</td><td style = \"text-align: right;\">250.0</td><td style = \"text-align: right;\">3</td><td style = \"text-align: right;\">3</td><td style = \"text-align: right;\">true</td></tr><tr><td class = \"rowNumber\" style = \"font-weight: bold; text-align: right;\">17</td><td style = \"text-align: left;\">Portugal</td><td style = \"text-align: left;\">Ghana</td><td style = \"text-align: right;\">0.00202424</td><td style = \"text-align: right;\">0.00299211</td><td style = \"text-align: right;\">0.994984</td><td style = \"text-align: right;\">250.0</td><td style = \"text-align: right;\">1</td><td style = \"text-align: right;\">3</td><td style = \"text-align: right;\">false</td></tr><tr><td class = \"rowNumber\" style = \"font-weight: bold; text-align: right;\">18</td><td style = \"text-align: left;\">Spain</td><td style = \"text-align: left;\">Costa Rica</td><td style = \"text-align: right;\">0.0200075</td><td style = \"text-align: right;\">0.0141564</td><td style = \"text-align: right;\">0.965836</td><td style = \"text-align: right;\">250.0</td><td style = \"text-align: right;\">1</td><td style = \"text-align: right;\">3</td><td style = \"text-align: right;\">false</td></tr><tr><td class = \"rowNumber\" style = \"font-weight: bold; text-align: right;\">19</td><td style = \"text-align: left;\">Switzerland</td><td style = \"text-align: left;\">Cameroon</td><td style = \"text-align: right;\">0.245646</td><td style = \"text-align: right;\">0.20531</td><td style = \"text-align: right;\">0.549044</td><td style = \"text-align: right;\">250.0</td><td style = \"text-align: right;\">1</td><td style = \"text-align: right;\">3</td><td style = \"text-align: right;\">false</td></tr><tr><td class = \"rowNumber\" style = \"font-weight: bold; text-align: right;\">20</td><td style = \"text-align: left;\">Tunisia</td><td style = \"text-align: left;\">Australia</td><td style = \"text-align: right;\">0.14659</td><td style = \"text-align: right;\">0.00531972</td><td style = \"text-align: right;\">0.84809</td><td style = \"text-align: right;\">250.0</td><td style = \"text-align: right;\">3</td><td style = \"text-align: right;\">3</td><td style = \"text-align: right;\">true</td></tr></tbody></table></div>"
      ],
      "text/latex": [
       "\\begin{tabular}{r|cccccccc}\n",
       "\t& home\\_team & away\\_team & home\\_win & draw & home\\_loss & bet\\_amount & actual\\_outcome & \\\\\n",
       "\t\\hline\n",
       "\t& String15 & String15 & Float64 & Float64 & Float64 & Float64 & Int64 & \\\\\n",
       "\t\\hline\n",
       "\t1 & Australia & Denmark & 0.954803 & 0.0345429 & 0.0106539 & 250.0 & 1 & $\\dots$ \\\\\n",
       "\t2 & Cameroon & Brazil & 0.942382 & 0.0509663 & 0.00665153 & 250.0 & 1 & $\\dots$ \\\\\n",
       "\t3 & Cameroon & Serbia & 0.891956 & 0.0729 & 0.035144 & 250.0 & 2 & $\\dots$ \\\\\n",
       "\t4 & Canada & Morocco & 0.88168 & 0.0102742 & 0.108046 & 250.0 & 3 & $\\dots$ \\\\\n",
       "\t5 & Costa Rica & Germany & 0.978623 & 0.0184663 & 0.00291089 & 250.0 & 3 & $\\dots$ \\\\\n",
       "\t6 & Croatia & Belgium & 0.932715 & 0.0640844 & 0.00320028 & 250.0 & 2 & $\\dots$ \\\\\n",
       "\t7 & Japan & Spain & 0.989969 & 0.00867209 & 0.00135936 & 250.0 & 1 & $\\dots$ \\\\\n",
       "\t8 & Korea Republic & Portugal & 0.912574 & 0.0279381 & 0.0594874 & 250.0 & 1 & $\\dots$ \\\\\n",
       "\t9 & Poland & Argentina & 0.99983 & 0.000126039 & 4.36873e-5 & 250.0 & 3 & $\\dots$ \\\\\n",
       "\t10 & Qatar & Ecuador & 0.976657 & 0.00288333 & 0.02046 & 250.0 & 3 & $\\dots$ \\\\\n",
       "\t11 & Saudi Arabia & Mexico & 0.999698 & 0.00016969 & 0.000132438 & 250.0 & 3 & $\\dots$ \\\\\n",
       "\t12 & Senegal & Netherlands & 0.9995 & 0.00042588 & 7.41291e-5 & 250.0 & 3 & $\\dots$ \\\\\n",
       "\t13 & Brazil & Serbia & 0.169095 & 0.773995 & 0.05691 & 250.0 & 1 & $\\dots$ \\\\\n",
       "\t14 & Germany & Japan & 0.118089 & 0.84444 & 0.0374713 & 250.0 & 3 & $\\dots$ \\\\\n",
       "\t15 & France & Denmark & 0.75652 & 0.0228109 & 0.220669 & 250.0 & 1 & $\\dots$ \\\\\n",
       "\t16 & Japan & Costa Rica & 0.377473 & 0.216131 & 0.406396 & 250.0 & 3 & $\\dots$ \\\\\n",
       "\t17 & Portugal & Ghana & 0.00202424 & 0.00299211 & 0.994984 & 250.0 & 1 & $\\dots$ \\\\\n",
       "\t18 & Spain & Costa Rica & 0.0200075 & 0.0141564 & 0.965836 & 250.0 & 1 & $\\dots$ \\\\\n",
       "\t19 & Switzerland & Cameroon & 0.245646 & 0.20531 & 0.549044 & 250.0 & 1 & $\\dots$ \\\\\n",
       "\t20 & Tunisia & Australia & 0.14659 & 0.00531972 & 0.84809 & 250.0 & 3 & $\\dots$ \\\\\n",
       "\\end{tabular}\n"
      ],
      "text/plain": [
       "\u001b[1m20×9 DataFrame\n",
       "\u001b[1m Row │\u001b[1m home_team      \u001b[1m away_team   \u001b[1m home_win   \u001b[1m draw        \u001b[1m home_loss   \u001b[1m bet_ ⋯\n",
       "     │\u001b[90m String15       \u001b[90m String15    \u001b[90m Float64    \u001b[90m Float64     \u001b[90m Float64     \u001b[90m Floa ⋯\n",
       "─────┼──────────────────────────────────────────────────────────────────────────\n",
       "   1 │ Australia       Denmark      0.954803    0.0345429    0.0106539         ⋯\n",
       "   2 │ Cameroon        Brazil       0.942382    0.0509663    0.00665153\n",
       "   3 │ Cameroon        Serbia       0.891956    0.0729       0.035144\n",
       "   4 │ Canada          Morocco      0.88168     0.0102742    0.108046\n",
       "   5 │ Costa Rica      Germany      0.978623    0.0184663    0.00291089        ⋯\n",
       "   6 │ Croatia         Belgium      0.932715    0.0640844    0.00320028\n",
       "   7 │ Japan           Spain        0.989969    0.00867209   0.00135936\n",
       "   8 │ Korea Republic  Portugal     0.912574    0.0279381    0.0594874\n",
       "   9 │ Poland          Argentina    0.99983     0.000126039  4.36873e-5        ⋯\n",
       "  10 │ Qatar           Ecuador      0.976657    0.00288333   0.02046\n",
       "  11 │ Saudi Arabia    Mexico       0.999698    0.00016969   0.000132438\n",
       "  12 │ Senegal         Netherlands  0.9995      0.00042588   7.41291e-5\n",
       "  13 │ Brazil          Serbia       0.169095    0.773995     0.05691           ⋯\n",
       "  14 │ Germany         Japan        0.118089    0.84444      0.0374713\n",
       "  15 │ France          Denmark      0.75652     0.0228109    0.220669\n",
       "  16 │ Japan           Costa Rica   0.377473    0.216131     0.406396\n",
       "  17 │ Portugal        Ghana        0.00202424  0.00299211   0.994984          ⋯\n",
       "  18 │ Spain           Costa Rica   0.0200075   0.0141564    0.965836\n",
       "  19 │ Switzerland     Cameroon     0.245646    0.20531      0.549044\n",
       "  20 │ Tunisia         Australia    0.14659     0.00531972   0.84809\n",
       "\u001b[36m                                                               4 columns omitted"
      ]
     },
     "execution_count": 78,
     "metadata": {},
     "output_type": "execute_result"
    }
   ],
   "source": [
    "outcomes"
   ]
  },
  {
   "cell_type": "code",
   "execution_count": 79,
   "metadata": {},
   "outputs": [
    {
     "data": {
      "text/plain": [
       "20-element Vector{CartesianIndex{2}}:\n",
       " CartesianIndex(3, 1)\n",
       " CartesianIndex(8, 1)\n",
       " CartesianIndex(9, 1)\n",
       " CartesianIndex(10, 1)\n",
       " CartesianIndex(11, 1)\n",
       " CartesianIndex(12, 1)\n",
       " CartesianIndex(24, 1)\n",
       " CartesianIndex(26, 1)\n",
       " CartesianIndex(31, 1)\n",
       " CartesianIndex(35, 1)\n",
       " CartesianIndex(37, 1)\n",
       " CartesianIndex(38, 1)\n",
       " CartesianIndex(6, 2)\n",
       " CartesianIndex(20, 2)\n",
       " CartesianIndex(19, 3)\n",
       " CartesianIndex(23, 3)\n",
       " CartesianIndex(33, 3)\n",
       " CartesianIndex(40, 3)\n",
       " CartesianIndex(42, 3)\n",
       " CartesianIndex(43, 3)"
      ]
     },
     "execution_count": 79,
     "metadata": {},
     "output_type": "execute_result"
    }
   ],
   "source": [
    "betting_matches"
   ]
  },
  {
   "cell_type": "markdown",
   "metadata": {},
   "source": [
    "## Money Actually Earned"
   ]
  },
  {
   "cell_type": "code",
   "execution_count": 80,
   "metadata": {},
   "outputs": [
    {
     "data": {
      "text/html": [
       "<div><div style = \"float: left;\"><span>20×11 DataFrame</span></div><div style = \"clear: both;\"></div></div><div class = \"data-frame\" style = \"overflow-x: scroll;\"><table class = \"data-frame\" style = \"margin-bottom: 6px;\"><thead><tr class = \"header\"><th class = \"rowNumber\" style = \"font-weight: bold; text-align: right;\">Row</th><th style = \"text-align: left;\">home_team</th><th style = \"text-align: left;\">away_team</th><th style = \"text-align: left;\">home_win</th><th style = \"text-align: left;\">draw</th><th style = \"text-align: left;\">home_loss</th><th style = \"text-align: left;\">bet_amount</th><th style = \"text-align: left;\">actual_outcome</th><th style = \"text-align: left;\">bet_outcome</th><th style = \"text-align: left;\">correct</th><th style = \"text-align: left;\">betting_matches_indices</th><th style = \"text-align: left;\">betting_matches_outcomes</th></tr><tr class = \"subheader headerLastRow\"><th class = \"rowNumber\" style = \"font-weight: bold; text-align: right;\"></th><th title = \"String15\" style = \"text-align: left;\">String15</th><th title = \"String15\" style = \"text-align: left;\">String15</th><th title = \"Float64\" style = \"text-align: left;\">Float64</th><th title = \"Float64\" style = \"text-align: left;\">Float64</th><th title = \"Float64\" style = \"text-align: left;\">Float64</th><th title = \"Float64\" style = \"text-align: left;\">Float64</th><th title = \"Int64\" style = \"text-align: left;\">Int64</th><th title = \"Int64\" style = \"text-align: left;\">Int64</th><th title = \"Bool\" style = \"text-align: left;\">Bool</th><th title = \"Int64\" style = \"text-align: left;\">Int64</th><th title = \"Int64\" style = \"text-align: left;\">Int64</th></tr></thead><tbody><tr><td class = \"rowNumber\" style = \"font-weight: bold; text-align: right;\">1</td><td style = \"text-align: left;\">Australia</td><td style = \"text-align: left;\">Denmark</td><td style = \"text-align: right;\">0.954803</td><td style = \"text-align: right;\">0.0345429</td><td style = \"text-align: right;\">0.0106539</td><td style = \"text-align: right;\">250.0</td><td style = \"text-align: right;\">1</td><td style = \"text-align: right;\">1</td><td style = \"text-align: right;\">true</td><td style = \"text-align: right;\">3</td><td style = \"text-align: right;\">1</td></tr><tr><td class = \"rowNumber\" style = \"font-weight: bold; text-align: right;\">2</td><td style = \"text-align: left;\">Cameroon</td><td style = \"text-align: left;\">Brazil</td><td style = \"text-align: right;\">0.942382</td><td style = \"text-align: right;\">0.0509663</td><td style = \"text-align: right;\">0.00665153</td><td style = \"text-align: right;\">250.0</td><td style = \"text-align: right;\">1</td><td style = \"text-align: right;\">1</td><td style = \"text-align: right;\">true</td><td style = \"text-align: right;\">8</td><td style = \"text-align: right;\">1</td></tr><tr><td class = \"rowNumber\" style = \"font-weight: bold; text-align: right;\">3</td><td style = \"text-align: left;\">Cameroon</td><td style = \"text-align: left;\">Serbia</td><td style = \"text-align: right;\">0.891956</td><td style = \"text-align: right;\">0.0729</td><td style = \"text-align: right;\">0.035144</td><td style = \"text-align: right;\">250.0</td><td style = \"text-align: right;\">2</td><td style = \"text-align: right;\">1</td><td style = \"text-align: right;\">false</td><td style = \"text-align: right;\">9</td><td style = \"text-align: right;\">1</td></tr><tr><td class = \"rowNumber\" style = \"font-weight: bold; text-align: right;\">4</td><td style = \"text-align: left;\">Canada</td><td style = \"text-align: left;\">Morocco</td><td style = \"text-align: right;\">0.88168</td><td style = \"text-align: right;\">0.0102742</td><td style = \"text-align: right;\">0.108046</td><td style = \"text-align: right;\">250.0</td><td style = \"text-align: right;\">3</td><td style = \"text-align: right;\">1</td><td style = \"text-align: right;\">false</td><td style = \"text-align: right;\">10</td><td style = \"text-align: right;\">1</td></tr><tr><td class = \"rowNumber\" style = \"font-weight: bold; text-align: right;\">5</td><td style = \"text-align: left;\">Costa Rica</td><td style = \"text-align: left;\">Germany</td><td style = \"text-align: right;\">0.978623</td><td style = \"text-align: right;\">0.0184663</td><td style = \"text-align: right;\">0.00291089</td><td style = \"text-align: right;\">250.0</td><td style = \"text-align: right;\">3</td><td style = \"text-align: right;\">1</td><td style = \"text-align: right;\">false</td><td style = \"text-align: right;\">11</td><td style = \"text-align: right;\">1</td></tr><tr><td class = \"rowNumber\" style = \"font-weight: bold; text-align: right;\">6</td><td style = \"text-align: left;\">Croatia</td><td style = \"text-align: left;\">Belgium</td><td style = \"text-align: right;\">0.932715</td><td style = \"text-align: right;\">0.0640844</td><td style = \"text-align: right;\">0.00320028</td><td style = \"text-align: right;\">250.0</td><td style = \"text-align: right;\">2</td><td style = \"text-align: right;\">1</td><td style = \"text-align: right;\">false</td><td style = \"text-align: right;\">12</td><td style = \"text-align: right;\">1</td></tr><tr><td class = \"rowNumber\" style = \"font-weight: bold; text-align: right;\">7</td><td style = \"text-align: left;\">Japan</td><td style = \"text-align: left;\">Spain</td><td style = \"text-align: right;\">0.989969</td><td style = \"text-align: right;\">0.00867209</td><td style = \"text-align: right;\">0.00135936</td><td style = \"text-align: right;\">250.0</td><td style = \"text-align: right;\">1</td><td style = \"text-align: right;\">1</td><td style = \"text-align: right;\">true</td><td style = \"text-align: right;\">24</td><td style = \"text-align: right;\">1</td></tr><tr><td class = \"rowNumber\" style = \"font-weight: bold; text-align: right;\">8</td><td style = \"text-align: left;\">Korea Republic</td><td style = \"text-align: left;\">Portugal</td><td style = \"text-align: right;\">0.912574</td><td style = \"text-align: right;\">0.0279381</td><td style = \"text-align: right;\">0.0594874</td><td style = \"text-align: right;\">250.0</td><td style = \"text-align: right;\">1</td><td style = \"text-align: right;\">1</td><td style = \"text-align: right;\">true</td><td style = \"text-align: right;\">26</td><td style = \"text-align: right;\">1</td></tr><tr><td class = \"rowNumber\" style = \"font-weight: bold; text-align: right;\">9</td><td style = \"text-align: left;\">Poland</td><td style = \"text-align: left;\">Argentina</td><td style = \"text-align: right;\">0.99983</td><td style = \"text-align: right;\">0.000126039</td><td style = \"text-align: right;\">4.36873e-5</td><td style = \"text-align: right;\">250.0</td><td style = \"text-align: right;\">3</td><td style = \"text-align: right;\">1</td><td style = \"text-align: right;\">false</td><td style = \"text-align: right;\">31</td><td style = \"text-align: right;\">1</td></tr><tr><td class = \"rowNumber\" style = \"font-weight: bold; text-align: right;\">10</td><td style = \"text-align: left;\">Qatar</td><td style = \"text-align: left;\">Ecuador</td><td style = \"text-align: right;\">0.976657</td><td style = \"text-align: right;\">0.00288333</td><td style = \"text-align: right;\">0.02046</td><td style = \"text-align: right;\">250.0</td><td style = \"text-align: right;\">3</td><td style = \"text-align: right;\">1</td><td style = \"text-align: right;\">false</td><td style = \"text-align: right;\">35</td><td style = \"text-align: right;\">1</td></tr><tr><td class = \"rowNumber\" style = \"font-weight: bold; text-align: right;\">11</td><td style = \"text-align: left;\">Saudi Arabia</td><td style = \"text-align: left;\">Mexico</td><td style = \"text-align: right;\">0.999698</td><td style = \"text-align: right;\">0.00016969</td><td style = \"text-align: right;\">0.000132438</td><td style = \"text-align: right;\">250.0</td><td style = \"text-align: right;\">3</td><td style = \"text-align: right;\">1</td><td style = \"text-align: right;\">false</td><td style = \"text-align: right;\">37</td><td style = \"text-align: right;\">1</td></tr><tr><td class = \"rowNumber\" style = \"font-weight: bold; text-align: right;\">12</td><td style = \"text-align: left;\">Senegal</td><td style = \"text-align: left;\">Netherlands</td><td style = \"text-align: right;\">0.9995</td><td style = \"text-align: right;\">0.00042588</td><td style = \"text-align: right;\">7.41291e-5</td><td style = \"text-align: right;\">250.0</td><td style = \"text-align: right;\">3</td><td style = \"text-align: right;\">1</td><td style = \"text-align: right;\">false</td><td style = \"text-align: right;\">38</td><td style = \"text-align: right;\">1</td></tr><tr><td class = \"rowNumber\" style = \"font-weight: bold; text-align: right;\">13</td><td style = \"text-align: left;\">Brazil</td><td style = \"text-align: left;\">Serbia</td><td style = \"text-align: right;\">0.169095</td><td style = \"text-align: right;\">0.773995</td><td style = \"text-align: right;\">0.05691</td><td style = \"text-align: right;\">250.0</td><td style = \"text-align: right;\">1</td><td style = \"text-align: right;\">2</td><td style = \"text-align: right;\">false</td><td style = \"text-align: right;\">6</td><td style = \"text-align: right;\">2</td></tr><tr><td class = \"rowNumber\" style = \"font-weight: bold; text-align: right;\">14</td><td style = \"text-align: left;\">Germany</td><td style = \"text-align: left;\">Japan</td><td style = \"text-align: right;\">0.118089</td><td style = \"text-align: right;\">0.84444</td><td style = \"text-align: right;\">0.0374713</td><td style = \"text-align: right;\">250.0</td><td style = \"text-align: right;\">3</td><td style = \"text-align: right;\">2</td><td style = \"text-align: right;\">false</td><td style = \"text-align: right;\">20</td><td style = \"text-align: right;\">2</td></tr><tr><td class = \"rowNumber\" style = \"font-weight: bold; text-align: right;\">15</td><td style = \"text-align: left;\">France</td><td style = \"text-align: left;\">Denmark</td><td style = \"text-align: right;\">0.75652</td><td style = \"text-align: right;\">0.0228109</td><td style = \"text-align: right;\">0.220669</td><td style = \"text-align: right;\">250.0</td><td style = \"text-align: right;\">1</td><td style = \"text-align: right;\">3</td><td style = \"text-align: right;\">false</td><td style = \"text-align: right;\">19</td><td style = \"text-align: right;\">3</td></tr><tr><td class = \"rowNumber\" style = \"font-weight: bold; text-align: right;\">16</td><td style = \"text-align: left;\">Japan</td><td style = \"text-align: left;\">Costa Rica</td><td style = \"text-align: right;\">0.377473</td><td style = \"text-align: right;\">0.216131</td><td style = \"text-align: right;\">0.406396</td><td style = \"text-align: right;\">250.0</td><td style = \"text-align: right;\">3</td><td style = \"text-align: right;\">3</td><td style = \"text-align: right;\">true</td><td style = \"text-align: right;\">23</td><td style = \"text-align: right;\">3</td></tr><tr><td class = \"rowNumber\" style = \"font-weight: bold; text-align: right;\">17</td><td style = \"text-align: left;\">Portugal</td><td style = \"text-align: left;\">Ghana</td><td style = \"text-align: right;\">0.00202424</td><td style = \"text-align: right;\">0.00299211</td><td style = \"text-align: right;\">0.994984</td><td style = \"text-align: right;\">250.0</td><td style = \"text-align: right;\">1</td><td style = \"text-align: right;\">3</td><td style = \"text-align: right;\">false</td><td style = \"text-align: right;\">33</td><td style = \"text-align: right;\">3</td></tr><tr><td class = \"rowNumber\" style = \"font-weight: bold; text-align: right;\">18</td><td style = \"text-align: left;\">Spain</td><td style = \"text-align: left;\">Costa Rica</td><td style = \"text-align: right;\">0.0200075</td><td style = \"text-align: right;\">0.0141564</td><td style = \"text-align: right;\">0.965836</td><td style = \"text-align: right;\">250.0</td><td style = \"text-align: right;\">1</td><td style = \"text-align: right;\">3</td><td style = \"text-align: right;\">false</td><td style = \"text-align: right;\">40</td><td style = \"text-align: right;\">3</td></tr><tr><td class = \"rowNumber\" style = \"font-weight: bold; text-align: right;\">19</td><td style = \"text-align: left;\">Switzerland</td><td style = \"text-align: left;\">Cameroon</td><td style = \"text-align: right;\">0.245646</td><td style = \"text-align: right;\">0.20531</td><td style = \"text-align: right;\">0.549044</td><td style = \"text-align: right;\">250.0</td><td style = \"text-align: right;\">1</td><td style = \"text-align: right;\">3</td><td style = \"text-align: right;\">false</td><td style = \"text-align: right;\">42</td><td style = \"text-align: right;\">3</td></tr><tr><td class = \"rowNumber\" style = \"font-weight: bold; text-align: right;\">20</td><td style = \"text-align: left;\">Tunisia</td><td style = \"text-align: left;\">Australia</td><td style = \"text-align: right;\">0.14659</td><td style = \"text-align: right;\">0.00531972</td><td style = \"text-align: right;\">0.84809</td><td style = \"text-align: right;\">250.0</td><td style = \"text-align: right;\">3</td><td style = \"text-align: right;\">3</td><td style = \"text-align: right;\">true</td><td style = \"text-align: right;\">43</td><td style = \"text-align: right;\">3</td></tr></tbody></table></div>"
      ],
      "text/latex": [
       "\\begin{tabular}{r|cccccccc}\n",
       "\t& home\\_team & away\\_team & home\\_win & draw & home\\_loss & bet\\_amount & actual\\_outcome & \\\\\n",
       "\t\\hline\n",
       "\t& String15 & String15 & Float64 & Float64 & Float64 & Float64 & Int64 & \\\\\n",
       "\t\\hline\n",
       "\t1 & Australia & Denmark & 0.954803 & 0.0345429 & 0.0106539 & 250.0 & 1 & $\\dots$ \\\\\n",
       "\t2 & Cameroon & Brazil & 0.942382 & 0.0509663 & 0.00665153 & 250.0 & 1 & $\\dots$ \\\\\n",
       "\t3 & Cameroon & Serbia & 0.891956 & 0.0729 & 0.035144 & 250.0 & 2 & $\\dots$ \\\\\n",
       "\t4 & Canada & Morocco & 0.88168 & 0.0102742 & 0.108046 & 250.0 & 3 & $\\dots$ \\\\\n",
       "\t5 & Costa Rica & Germany & 0.978623 & 0.0184663 & 0.00291089 & 250.0 & 3 & $\\dots$ \\\\\n",
       "\t6 & Croatia & Belgium & 0.932715 & 0.0640844 & 0.00320028 & 250.0 & 2 & $\\dots$ \\\\\n",
       "\t7 & Japan & Spain & 0.989969 & 0.00867209 & 0.00135936 & 250.0 & 1 & $\\dots$ \\\\\n",
       "\t8 & Korea Republic & Portugal & 0.912574 & 0.0279381 & 0.0594874 & 250.0 & 1 & $\\dots$ \\\\\n",
       "\t9 & Poland & Argentina & 0.99983 & 0.000126039 & 4.36873e-5 & 250.0 & 3 & $\\dots$ \\\\\n",
       "\t10 & Qatar & Ecuador & 0.976657 & 0.00288333 & 0.02046 & 250.0 & 3 & $\\dots$ \\\\\n",
       "\t11 & Saudi Arabia & Mexico & 0.999698 & 0.00016969 & 0.000132438 & 250.0 & 3 & $\\dots$ \\\\\n",
       "\t12 & Senegal & Netherlands & 0.9995 & 0.00042588 & 7.41291e-5 & 250.0 & 3 & $\\dots$ \\\\\n",
       "\t13 & Brazil & Serbia & 0.169095 & 0.773995 & 0.05691 & 250.0 & 1 & $\\dots$ \\\\\n",
       "\t14 & Germany & Japan & 0.118089 & 0.84444 & 0.0374713 & 250.0 & 3 & $\\dots$ \\\\\n",
       "\t15 & France & Denmark & 0.75652 & 0.0228109 & 0.220669 & 250.0 & 1 & $\\dots$ \\\\\n",
       "\t16 & Japan & Costa Rica & 0.377473 & 0.216131 & 0.406396 & 250.0 & 3 & $\\dots$ \\\\\n",
       "\t17 & Portugal & Ghana & 0.00202424 & 0.00299211 & 0.994984 & 250.0 & 1 & $\\dots$ \\\\\n",
       "\t18 & Spain & Costa Rica & 0.0200075 & 0.0141564 & 0.965836 & 250.0 & 1 & $\\dots$ \\\\\n",
       "\t19 & Switzerland & Cameroon & 0.245646 & 0.20531 & 0.549044 & 250.0 & 1 & $\\dots$ \\\\\n",
       "\t20 & Tunisia & Australia & 0.14659 & 0.00531972 & 0.84809 & 250.0 & 3 & $\\dots$ \\\\\n",
       "\\end{tabular}\n"
      ],
      "text/plain": [
       "\u001b[1m20×11 DataFrame\n",
       "\u001b[1m Row │\u001b[1m home_team      \u001b[1m away_team   \u001b[1m home_win   \u001b[1m draw        \u001b[1m home_loss   \u001b[1m bet_ ⋯\n",
       "     │\u001b[90m String15       \u001b[90m String15    \u001b[90m Float64    \u001b[90m Float64     \u001b[90m Float64     \u001b[90m Floa ⋯\n",
       "─────┼──────────────────────────────────────────────────────────────────────────\n",
       "   1 │ Australia       Denmark      0.954803    0.0345429    0.0106539         ⋯\n",
       "   2 │ Cameroon        Brazil       0.942382    0.0509663    0.00665153\n",
       "   3 │ Cameroon        Serbia       0.891956    0.0729       0.035144\n",
       "   4 │ Canada          Morocco      0.88168     0.0102742    0.108046\n",
       "   5 │ Costa Rica      Germany      0.978623    0.0184663    0.00291089        ⋯\n",
       "   6 │ Croatia         Belgium      0.932715    0.0640844    0.00320028\n",
       "   7 │ Japan           Spain        0.989969    0.00867209   0.00135936\n",
       "   8 │ Korea Republic  Portugal     0.912574    0.0279381    0.0594874\n",
       "   9 │ Poland          Argentina    0.99983     0.000126039  4.36873e-5        ⋯\n",
       "  10 │ Qatar           Ecuador      0.976657    0.00288333   0.02046\n",
       "  11 │ Saudi Arabia    Mexico       0.999698    0.00016969   0.000132438\n",
       "  12 │ Senegal         Netherlands  0.9995      0.00042588   7.41291e-5\n",
       "  13 │ Brazil          Serbia       0.169095    0.773995     0.05691           ⋯\n",
       "  14 │ Germany         Japan        0.118089    0.84444      0.0374713\n",
       "  15 │ France          Denmark      0.75652     0.0228109    0.220669\n",
       "  16 │ Japan           Costa Rica   0.377473    0.216131     0.406396\n",
       "  17 │ Portugal        Ghana        0.00202424  0.00299211   0.994984          ⋯\n",
       "  18 │ Spain           Costa Rica   0.0200075   0.0141564    0.965836\n",
       "  19 │ Switzerland     Cameroon     0.245646    0.20531      0.549044\n",
       "  20 │ Tunisia         Australia    0.14659     0.00531972   0.84809\n",
       "\u001b[36m                                                               6 columns omitted"
      ]
     },
     "execution_count": 80,
     "metadata": {},
     "output_type": "execute_result"
    }
   ],
   "source": [
    "outcomes\n",
    "\n",
    "# add betting_matches_list as a column called :betting_indices so we can map to the correct row and columns in 'returns' dataframe\n",
    "outcomes[:,\"betting_matches_indices\"] = betting_matches_list;\n",
    "outcomes[:,\"betting_matches_outcomes\"] = betting_matches_outcomes;\n",
    "outcomes"
   ]
  },
  {
   "cell_type": "code",
   "execution_count": 81,
   "metadata": {},
   "outputs": [
    {
     "data": {
      "text/html": [
       "<div><div style = \"float: left;\"><span>20×12 DataFrame</span></div><div style = \"clear: both;\"></div></div><div class = \"data-frame\" style = \"overflow-x: scroll;\"><table class = \"data-frame\" style = \"margin-bottom: 6px;\"><thead><tr class = \"header\"><th class = \"rowNumber\" style = \"font-weight: bold; text-align: right;\">Row</th><th style = \"text-align: left;\">home_team</th><th style = \"text-align: left;\">away_team</th><th style = \"text-align: left;\">home_win</th><th style = \"text-align: left;\">draw</th><th style = \"text-align: left;\">home_loss</th><th style = \"text-align: left;\">bet_amount</th><th style = \"text-align: left;\">actual_outcome</th><th style = \"text-align: left;\">bet_outcome</th><th style = \"text-align: left;\">correct</th><th style = \"text-align: left;\">betting_matches_indices</th><th style = \"text-align: left;\">betting_matches_outcomes</th><th style = \"text-align: left;\">if_bets_correct_profit</th></tr><tr class = \"subheader headerLastRow\"><th class = \"rowNumber\" style = \"font-weight: bold; text-align: right;\"></th><th title = \"String15\" style = \"text-align: left;\">String15</th><th title = \"String15\" style = \"text-align: left;\">String15</th><th title = \"Float64\" style = \"text-align: left;\">Float64</th><th title = \"Float64\" style = \"text-align: left;\">Float64</th><th title = \"Float64\" style = \"text-align: left;\">Float64</th><th title = \"Float64\" style = \"text-align: left;\">Float64</th><th title = \"Int64\" style = \"text-align: left;\">Int64</th><th title = \"Int64\" style = \"text-align: left;\">Int64</th><th title = \"Bool\" style = \"text-align: left;\">Bool</th><th title = \"Int64\" style = \"text-align: left;\">Int64</th><th title = \"Int64\" style = \"text-align: left;\">Int64</th><th title = \"Float64\" style = \"text-align: left;\">Float64</th></tr></thead><tbody><tr><td class = \"rowNumber\" style = \"font-weight: bold; text-align: right;\">1</td><td style = \"text-align: left;\">Australia</td><td style = \"text-align: left;\">Denmark</td><td style = \"text-align: right;\">0.954803</td><td style = \"text-align: right;\">0.0345429</td><td style = \"text-align: right;\">0.0106539</td><td style = \"text-align: right;\">250.0</td><td style = \"text-align: right;\">1</td><td style = \"text-align: right;\">1</td><td style = \"text-align: right;\">true</td><td style = \"text-align: right;\">3</td><td style = \"text-align: right;\">1</td><td style = \"text-align: right;\">1345.0</td></tr><tr><td class = \"rowNumber\" style = \"font-weight: bold; text-align: right;\">2</td><td style = \"text-align: left;\">Cameroon</td><td style = \"text-align: left;\">Brazil</td><td style = \"text-align: right;\">0.942382</td><td style = \"text-align: right;\">0.0509663</td><td style = \"text-align: right;\">0.00665153</td><td style = \"text-align: right;\">250.0</td><td style = \"text-align: right;\">1</td><td style = \"text-align: right;\">1</td><td style = \"text-align: right;\">true</td><td style = \"text-align: right;\">8</td><td style = \"text-align: right;\">1</td><td style = \"text-align: right;\">1732.5</td></tr><tr><td class = \"rowNumber\" style = \"font-weight: bold; text-align: right;\">3</td><td style = \"text-align: left;\">Cameroon</td><td style = \"text-align: left;\">Serbia</td><td style = \"text-align: right;\">0.891956</td><td style = \"text-align: right;\">0.0729</td><td style = \"text-align: right;\">0.035144</td><td style = \"text-align: right;\">250.0</td><td style = \"text-align: right;\">2</td><td style = \"text-align: right;\">1</td><td style = \"text-align: right;\">false</td><td style = \"text-align: right;\">9</td><td style = \"text-align: right;\">1</td><td style = \"text-align: right;\">825.0</td></tr><tr><td class = \"rowNumber\" style = \"font-weight: bold; text-align: right;\">4</td><td style = \"text-align: left;\">Canada</td><td style = \"text-align: left;\">Morocco</td><td style = \"text-align: right;\">0.88168</td><td style = \"text-align: right;\">0.0102742</td><td style = \"text-align: right;\">0.108046</td><td style = \"text-align: right;\">250.0</td><td style = \"text-align: right;\">3</td><td style = \"text-align: right;\">1</td><td style = \"text-align: right;\">false</td><td style = \"text-align: right;\">10</td><td style = \"text-align: right;\">1</td><td style = \"text-align: right;\">695.0</td></tr><tr><td class = \"rowNumber\" style = \"font-weight: bold; text-align: right;\">5</td><td style = \"text-align: left;\">Costa Rica</td><td style = \"text-align: left;\">Germany</td><td style = \"text-align: right;\">0.978623</td><td style = \"text-align: right;\">0.0184663</td><td style = \"text-align: right;\">0.00291089</td><td style = \"text-align: right;\">250.0</td><td style = \"text-align: right;\">3</td><td style = \"text-align: right;\">1</td><td style = \"text-align: right;\">false</td><td style = \"text-align: right;\">11</td><td style = \"text-align: right;\">1</td><td style = \"text-align: right;\">5447.5</td></tr><tr><td class = \"rowNumber\" style = \"font-weight: bold; text-align: right;\">6</td><td style = \"text-align: left;\">Croatia</td><td style = \"text-align: left;\">Belgium</td><td style = \"text-align: right;\">0.932715</td><td style = \"text-align: right;\">0.0640844</td><td style = \"text-align: right;\">0.00320028</td><td style = \"text-align: right;\">250.0</td><td style = \"text-align: right;\">2</td><td style = \"text-align: right;\">1</td><td style = \"text-align: right;\">false</td><td style = \"text-align: right;\">12</td><td style = \"text-align: right;\">1</td><td style = \"text-align: right;\">255.0</td></tr><tr><td class = \"rowNumber\" style = \"font-weight: bold; text-align: right;\">7</td><td style = \"text-align: left;\">Japan</td><td style = \"text-align: left;\">Spain</td><td style = \"text-align: right;\">0.989969</td><td style = \"text-align: right;\">0.00867209</td><td style = \"text-align: right;\">0.00135936</td><td style = \"text-align: right;\">250.0</td><td style = \"text-align: right;\">1</td><td style = \"text-align: right;\">1</td><td style = \"text-align: right;\">true</td><td style = \"text-align: right;\">24</td><td style = \"text-align: right;\">1</td><td style = \"text-align: right;\">1260.0</td></tr><tr><td class = \"rowNumber\" style = \"font-weight: bold; text-align: right;\">8</td><td style = \"text-align: left;\">Korea Republic</td><td style = \"text-align: left;\">Portugal</td><td style = \"text-align: right;\">0.912574</td><td style = \"text-align: right;\">0.0279381</td><td style = \"text-align: right;\">0.0594874</td><td style = \"text-align: right;\">250.0</td><td style = \"text-align: right;\">1</td><td style = \"text-align: right;\">1</td><td style = \"text-align: right;\">true</td><td style = \"text-align: right;\">26</td><td style = \"text-align: right;\">1</td><td style = \"text-align: right;\">565.0</td></tr><tr><td class = \"rowNumber\" style = \"font-weight: bold; text-align: right;\">9</td><td style = \"text-align: left;\">Poland</td><td style = \"text-align: left;\">Argentina</td><td style = \"text-align: right;\">0.99983</td><td style = \"text-align: right;\">0.000126039</td><td style = \"text-align: right;\">4.36873e-5</td><td style = \"text-align: right;\">250.0</td><td style = \"text-align: right;\">3</td><td style = \"text-align: right;\">1</td><td style = \"text-align: right;\">false</td><td style = \"text-align: right;\">31</td><td style = \"text-align: right;\">1</td><td style = \"text-align: right;\">1547.5</td></tr><tr><td class = \"rowNumber\" style = \"font-weight: bold; text-align: right;\">10</td><td style = \"text-align: left;\">Qatar</td><td style = \"text-align: left;\">Ecuador</td><td style = \"text-align: right;\">0.976657</td><td style = \"text-align: right;\">0.00288333</td><td style = \"text-align: right;\">0.02046</td><td style = \"text-align: right;\">250.0</td><td style = \"text-align: right;\">3</td><td style = \"text-align: right;\">1</td><td style = \"text-align: right;\">false</td><td style = \"text-align: right;\">35</td><td style = \"text-align: right;\">1</td><td style = \"text-align: right;\">875.0</td></tr><tr><td class = \"rowNumber\" style = \"font-weight: bold; text-align: right;\">11</td><td style = \"text-align: left;\">Saudi Arabia</td><td style = \"text-align: left;\">Mexico</td><td style = \"text-align: right;\">0.999698</td><td style = \"text-align: right;\">0.00016969</td><td style = \"text-align: right;\">0.000132438</td><td style = \"text-align: right;\">250.0</td><td style = \"text-align: right;\">3</td><td style = \"text-align: right;\">1</td><td style = \"text-align: right;\">false</td><td style = \"text-align: right;\">37</td><td style = \"text-align: right;\">1</td><td style = \"text-align: right;\">835.0</td></tr><tr><td class = \"rowNumber\" style = \"font-weight: bold; text-align: right;\">12</td><td style = \"text-align: left;\">Senegal</td><td style = \"text-align: left;\">Netherlands</td><td style = \"text-align: right;\">0.9995</td><td style = \"text-align: right;\">0.00042588</td><td style = \"text-align: right;\">7.41291e-5</td><td style = \"text-align: right;\">250.0</td><td style = \"text-align: right;\">3</td><td style = \"text-align: right;\">1</td><td style = \"text-align: right;\">false</td><td style = \"text-align: right;\">38</td><td style = \"text-align: right;\">1</td><td style = \"text-align: right;\">1022.5</td></tr><tr><td class = \"rowNumber\" style = \"font-weight: bold; text-align: right;\">13</td><td style = \"text-align: left;\">Brazil</td><td style = \"text-align: left;\">Serbia</td><td style = \"text-align: right;\">0.169095</td><td style = \"text-align: right;\">0.773995</td><td style = \"text-align: right;\">0.05691</td><td style = \"text-align: right;\">250.0</td><td style = \"text-align: right;\">1</td><td style = \"text-align: right;\">2</td><td style = \"text-align: right;\">false</td><td style = \"text-align: right;\">6</td><td style = \"text-align: right;\">2</td><td style = \"text-align: right;\">570.0</td></tr><tr><td class = \"rowNumber\" style = \"font-weight: bold; text-align: right;\">14</td><td style = \"text-align: left;\">Germany</td><td style = \"text-align: left;\">Japan</td><td style = \"text-align: right;\">0.118089</td><td style = \"text-align: right;\">0.84444</td><td style = \"text-align: right;\">0.0374713</td><td style = \"text-align: right;\">250.0</td><td style = \"text-align: right;\">3</td><td style = \"text-align: right;\">2</td><td style = \"text-align: right;\">false</td><td style = \"text-align: right;\">20</td><td style = \"text-align: right;\">2</td><td style = \"text-align: right;\">710.0</td></tr><tr><td class = \"rowNumber\" style = \"font-weight: bold; text-align: right;\">15</td><td style = \"text-align: left;\">France</td><td style = \"text-align: left;\">Denmark</td><td style = \"text-align: right;\">0.75652</td><td style = \"text-align: right;\">0.0228109</td><td style = \"text-align: right;\">0.220669</td><td style = \"text-align: right;\">250.0</td><td style = \"text-align: right;\">1</td><td style = \"text-align: right;\">3</td><td style = \"text-align: right;\">false</td><td style = \"text-align: right;\">19</td><td style = \"text-align: right;\">3</td><td style = \"text-align: right;\">2965.0</td></tr><tr><td class = \"rowNumber\" style = \"font-weight: bold; text-align: right;\">16</td><td style = \"text-align: left;\">Japan</td><td style = \"text-align: left;\">Costa Rica</td><td style = \"text-align: right;\">0.377473</td><td style = \"text-align: right;\">0.216131</td><td style = \"text-align: right;\">0.406396</td><td style = \"text-align: right;\">250.0</td><td style = \"text-align: right;\">3</td><td style = \"text-align: right;\">3</td><td style = \"text-align: right;\">true</td><td style = \"text-align: right;\">23</td><td style = \"text-align: right;\">3</td><td style = \"text-align: right;\">1367.5</td></tr><tr><td class = \"rowNumber\" style = \"font-weight: bold; text-align: right;\">17</td><td style = \"text-align: left;\">Portugal</td><td style = \"text-align: left;\">Ghana</td><td style = \"text-align: right;\">0.00202424</td><td style = \"text-align: right;\">0.00299211</td><td style = \"text-align: right;\">0.994984</td><td style = \"text-align: right;\">250.0</td><td style = \"text-align: right;\">1</td><td style = \"text-align: right;\">3</td><td style = \"text-align: right;\">false</td><td style = \"text-align: right;\">33</td><td style = \"text-align: right;\">3</td><td style = \"text-align: right;\">622.5</td></tr><tr><td class = \"rowNumber\" style = \"font-weight: bold; text-align: right;\">18</td><td style = \"text-align: left;\">Spain</td><td style = \"text-align: left;\">Costa Rica</td><td style = \"text-align: right;\">0.0200075</td><td style = \"text-align: right;\">0.0141564</td><td style = \"text-align: right;\">0.965836</td><td style = \"text-align: right;\">250.0</td><td style = \"text-align: right;\">1</td><td style = \"text-align: right;\">3</td><td style = \"text-align: right;\">false</td><td style = \"text-align: right;\">40</td><td style = \"text-align: right;\">3</td><td style = \"text-align: right;\">3857.5</td></tr><tr><td class = \"rowNumber\" style = \"font-weight: bold; text-align: right;\">19</td><td style = \"text-align: left;\">Switzerland</td><td style = \"text-align: left;\">Cameroon</td><td style = \"text-align: right;\">0.245646</td><td style = \"text-align: right;\">0.20531</td><td style = \"text-align: right;\">0.549044</td><td style = \"text-align: right;\">250.0</td><td style = \"text-align: right;\">1</td><td style = \"text-align: right;\">3</td><td style = \"text-align: right;\">false</td><td style = \"text-align: right;\">42</td><td style = \"text-align: right;\">3</td><td style = \"text-align: right;\">752.5</td></tr><tr><td class = \"rowNumber\" style = \"font-weight: bold; text-align: right;\">20</td><td style = \"text-align: left;\">Tunisia</td><td style = \"text-align: left;\">Australia</td><td style = \"text-align: right;\">0.14659</td><td style = \"text-align: right;\">0.00531972</td><td style = \"text-align: right;\">0.84809</td><td style = \"text-align: right;\">250.0</td><td style = \"text-align: right;\">3</td><td style = \"text-align: right;\">3</td><td style = \"text-align: right;\">true</td><td style = \"text-align: right;\">43</td><td style = \"text-align: right;\">3</td><td style = \"text-align: right;\">380.0</td></tr></tbody></table></div>"
      ],
      "text/latex": [
       "\\begin{tabular}{r|cccccccc}\n",
       "\t& home\\_team & away\\_team & home\\_win & draw & home\\_loss & bet\\_amount & actual\\_outcome & \\\\\n",
       "\t\\hline\n",
       "\t& String15 & String15 & Float64 & Float64 & Float64 & Float64 & Int64 & \\\\\n",
       "\t\\hline\n",
       "\t1 & Australia & Denmark & 0.954803 & 0.0345429 & 0.0106539 & 250.0 & 1 & $\\dots$ \\\\\n",
       "\t2 & Cameroon & Brazil & 0.942382 & 0.0509663 & 0.00665153 & 250.0 & 1 & $\\dots$ \\\\\n",
       "\t3 & Cameroon & Serbia & 0.891956 & 0.0729 & 0.035144 & 250.0 & 2 & $\\dots$ \\\\\n",
       "\t4 & Canada & Morocco & 0.88168 & 0.0102742 & 0.108046 & 250.0 & 3 & $\\dots$ \\\\\n",
       "\t5 & Costa Rica & Germany & 0.978623 & 0.0184663 & 0.00291089 & 250.0 & 3 & $\\dots$ \\\\\n",
       "\t6 & Croatia & Belgium & 0.932715 & 0.0640844 & 0.00320028 & 250.0 & 2 & $\\dots$ \\\\\n",
       "\t7 & Japan & Spain & 0.989969 & 0.00867209 & 0.00135936 & 250.0 & 1 & $\\dots$ \\\\\n",
       "\t8 & Korea Republic & Portugal & 0.912574 & 0.0279381 & 0.0594874 & 250.0 & 1 & $\\dots$ \\\\\n",
       "\t9 & Poland & Argentina & 0.99983 & 0.000126039 & 4.36873e-5 & 250.0 & 3 & $\\dots$ \\\\\n",
       "\t10 & Qatar & Ecuador & 0.976657 & 0.00288333 & 0.02046 & 250.0 & 3 & $\\dots$ \\\\\n",
       "\t11 & Saudi Arabia & Mexico & 0.999698 & 0.00016969 & 0.000132438 & 250.0 & 3 & $\\dots$ \\\\\n",
       "\t12 & Senegal & Netherlands & 0.9995 & 0.00042588 & 7.41291e-5 & 250.0 & 3 & $\\dots$ \\\\\n",
       "\t13 & Brazil & Serbia & 0.169095 & 0.773995 & 0.05691 & 250.0 & 1 & $\\dots$ \\\\\n",
       "\t14 & Germany & Japan & 0.118089 & 0.84444 & 0.0374713 & 250.0 & 3 & $\\dots$ \\\\\n",
       "\t15 & France & Denmark & 0.75652 & 0.0228109 & 0.220669 & 250.0 & 1 & $\\dots$ \\\\\n",
       "\t16 & Japan & Costa Rica & 0.377473 & 0.216131 & 0.406396 & 250.0 & 3 & $\\dots$ \\\\\n",
       "\t17 & Portugal & Ghana & 0.00202424 & 0.00299211 & 0.994984 & 250.0 & 1 & $\\dots$ \\\\\n",
       "\t18 & Spain & Costa Rica & 0.0200075 & 0.0141564 & 0.965836 & 250.0 & 1 & $\\dots$ \\\\\n",
       "\t19 & Switzerland & Cameroon & 0.245646 & 0.20531 & 0.549044 & 250.0 & 1 & $\\dots$ \\\\\n",
       "\t20 & Tunisia & Australia & 0.14659 & 0.00531972 & 0.84809 & 250.0 & 3 & $\\dots$ \\\\\n",
       "\\end{tabular}\n"
      ],
      "text/plain": [
       "\u001b[1m20×12 DataFrame\n",
       "\u001b[1m Row │\u001b[1m home_team      \u001b[1m away_team   \u001b[1m home_win   \u001b[1m draw        \u001b[1m home_loss   \u001b[1m bet_ ⋯\n",
       "     │\u001b[90m String15       \u001b[90m String15    \u001b[90m Float64    \u001b[90m Float64     \u001b[90m Float64     \u001b[90m Floa ⋯\n",
       "─────┼──────────────────────────────────────────────────────────────────────────\n",
       "   1 │ Australia       Denmark      0.954803    0.0345429    0.0106539         ⋯\n",
       "   2 │ Cameroon        Brazil       0.942382    0.0509663    0.00665153\n",
       "   3 │ Cameroon        Serbia       0.891956    0.0729       0.035144\n",
       "   4 │ Canada          Morocco      0.88168     0.0102742    0.108046\n",
       "   5 │ Costa Rica      Germany      0.978623    0.0184663    0.00291089        ⋯\n",
       "   6 │ Croatia         Belgium      0.932715    0.0640844    0.00320028\n",
       "   7 │ Japan           Spain        0.989969    0.00867209   0.00135936\n",
       "   8 │ Korea Republic  Portugal     0.912574    0.0279381    0.0594874\n",
       "   9 │ Poland          Argentina    0.99983     0.000126039  4.36873e-5        ⋯\n",
       "  10 │ Qatar           Ecuador      0.976657    0.00288333   0.02046\n",
       "  11 │ Saudi Arabia    Mexico       0.999698    0.00016969   0.000132438\n",
       "  12 │ Senegal         Netherlands  0.9995      0.00042588   7.41291e-5\n",
       "  13 │ Brazil          Serbia       0.169095    0.773995     0.05691           ⋯\n",
       "  14 │ Germany         Japan        0.118089    0.84444      0.0374713\n",
       "  15 │ France          Denmark      0.75652     0.0228109    0.220669\n",
       "  16 │ Japan           Costa Rica   0.377473    0.216131     0.406396\n",
       "  17 │ Portugal        Ghana        0.00202424  0.00299211   0.994984          ⋯\n",
       "  18 │ Spain           Costa Rica   0.0200075   0.0141564    0.965836\n",
       "  19 │ Switzerland     Cameroon     0.245646    0.20531      0.549044\n",
       "  20 │ Tunisia         Australia    0.14659     0.00531972   0.84809\n",
       "\u001b[36m                                                               7 columns omitted"
      ]
     },
     "execution_count": 81,
     "metadata": {},
     "output_type": "execute_result"
    }
   ],
   "source": [
    "# # DETERMINISTIC IF BETS ARE CORRECT PROFIT\n",
    "# create a new column called \"if_bets_correct_profit\" that calculates the profit if the bets are correct\n",
    "# initialise new if bets correct profit list\n",
    "if_bets_correct_profit = zeros(size(outcomes,1))\n",
    "\n",
    "# for each row in outcomes, calculate the profit if the bets are correct\n",
    "for i in 1:size(outcomes,1)\n",
    "    if_bets_correct_profit[i] = outcomes[i,\"bet_amount\"] * returns[outcomes[i,\"betting_matches_indices\"],outcomes[i,\"betting_matches_outcomes\"]+2] - outcomes[i,\"bet_amount\"]\n",
    "end\n",
    "\n",
    "# add if_bets_correct_profit to outcomes dataframe\n",
    "outcomes[:,\"if_bets_correct_profit\"] = if_bets_correct_profit;\n",
    "outcomes\n"
   ]
  },
  {
   "cell_type": "markdown",
   "metadata": {},
   "source": [
    "## Determining Actual Profit (Gross Earnings - Betting Amount)"
   ]
  },
  {
   "cell_type": "code",
   "execution_count": 82,
   "metadata": {},
   "outputs": [
    {
     "data": {
      "text/html": [
       "<div><div style = \"float: left;\"><span>20×13 DataFrame</span></div><div style = \"clear: both;\"></div></div><div class = \"data-frame\" style = \"overflow-x: scroll;\"><table class = \"data-frame\" style = \"margin-bottom: 6px;\"><thead><tr class = \"header\"><th class = \"rowNumber\" style = \"font-weight: bold; text-align: right;\">Row</th><th style = \"text-align: left;\">home_team</th><th style = \"text-align: left;\">away_team</th><th style = \"text-align: left;\">home_win</th><th style = \"text-align: left;\">draw</th><th style = \"text-align: left;\">home_loss</th><th style = \"text-align: left;\">bet_amount</th><th style = \"text-align: left;\">actual_outcome</th><th style = \"text-align: left;\">bet_outcome</th><th style = \"text-align: left;\">correct</th><th style = \"text-align: left;\">betting_matches_indices</th><th style = \"text-align: left;\">betting_matches_outcomes</th><th style = \"text-align: left;\">if_bets_correct_profit</th><th style = \"text-align: left;\">actual_profit</th></tr><tr class = \"subheader headerLastRow\"><th class = \"rowNumber\" style = \"font-weight: bold; text-align: right;\"></th><th title = \"String15\" style = \"text-align: left;\">String15</th><th title = \"String15\" style = \"text-align: left;\">String15</th><th title = \"Float64\" style = \"text-align: left;\">Float64</th><th title = \"Float64\" style = \"text-align: left;\">Float64</th><th title = \"Float64\" style = \"text-align: left;\">Float64</th><th title = \"Float64\" style = \"text-align: left;\">Float64</th><th title = \"Int64\" style = \"text-align: left;\">Int64</th><th title = \"Int64\" style = \"text-align: left;\">Int64</th><th title = \"Bool\" style = \"text-align: left;\">Bool</th><th title = \"Int64\" style = \"text-align: left;\">Int64</th><th title = \"Int64\" style = \"text-align: left;\">Int64</th><th title = \"Float64\" style = \"text-align: left;\">Float64</th><th title = \"Float64\" style = \"text-align: left;\">Float64</th></tr></thead><tbody><tr><td class = \"rowNumber\" style = \"font-weight: bold; text-align: right;\">1</td><td style = \"text-align: left;\">Australia</td><td style = \"text-align: left;\">Denmark</td><td style = \"text-align: right;\">0.954803</td><td style = \"text-align: right;\">0.0345429</td><td style = \"text-align: right;\">0.0106539</td><td style = \"text-align: right;\">250.0</td><td style = \"text-align: right;\">1</td><td style = \"text-align: right;\">1</td><td style = \"text-align: right;\">true</td><td style = \"text-align: right;\">3</td><td style = \"text-align: right;\">1</td><td style = \"text-align: right;\">1345.0</td><td style = \"text-align: right;\">1345.0</td></tr><tr><td class = \"rowNumber\" style = \"font-weight: bold; text-align: right;\">2</td><td style = \"text-align: left;\">Cameroon</td><td style = \"text-align: left;\">Brazil</td><td style = \"text-align: right;\">0.942382</td><td style = \"text-align: right;\">0.0509663</td><td style = \"text-align: right;\">0.00665153</td><td style = \"text-align: right;\">250.0</td><td style = \"text-align: right;\">1</td><td style = \"text-align: right;\">1</td><td style = \"text-align: right;\">true</td><td style = \"text-align: right;\">8</td><td style = \"text-align: right;\">1</td><td style = \"text-align: right;\">1732.5</td><td style = \"text-align: right;\">1732.5</td></tr><tr><td class = \"rowNumber\" style = \"font-weight: bold; text-align: right;\">3</td><td style = \"text-align: left;\">Cameroon</td><td style = \"text-align: left;\">Serbia</td><td style = \"text-align: right;\">0.891956</td><td style = \"text-align: right;\">0.0729</td><td style = \"text-align: right;\">0.035144</td><td style = \"text-align: right;\">250.0</td><td style = \"text-align: right;\">2</td><td style = \"text-align: right;\">1</td><td style = \"text-align: right;\">false</td><td style = \"text-align: right;\">9</td><td style = \"text-align: right;\">1</td><td style = \"text-align: right;\">825.0</td><td style = \"text-align: right;\">-250.0</td></tr><tr><td class = \"rowNumber\" style = \"font-weight: bold; text-align: right;\">4</td><td style = \"text-align: left;\">Canada</td><td style = \"text-align: left;\">Morocco</td><td style = \"text-align: right;\">0.88168</td><td style = \"text-align: right;\">0.0102742</td><td style = \"text-align: right;\">0.108046</td><td style = \"text-align: right;\">250.0</td><td style = \"text-align: right;\">3</td><td style = \"text-align: right;\">1</td><td style = \"text-align: right;\">false</td><td style = \"text-align: right;\">10</td><td style = \"text-align: right;\">1</td><td style = \"text-align: right;\">695.0</td><td style = \"text-align: right;\">-250.0</td></tr><tr><td class = \"rowNumber\" style = \"font-weight: bold; text-align: right;\">5</td><td style = \"text-align: left;\">Costa Rica</td><td style = \"text-align: left;\">Germany</td><td style = \"text-align: right;\">0.978623</td><td style = \"text-align: right;\">0.0184663</td><td style = \"text-align: right;\">0.00291089</td><td style = \"text-align: right;\">250.0</td><td style = \"text-align: right;\">3</td><td style = \"text-align: right;\">1</td><td style = \"text-align: right;\">false</td><td style = \"text-align: right;\">11</td><td style = \"text-align: right;\">1</td><td style = \"text-align: right;\">5447.5</td><td style = \"text-align: right;\">-250.0</td></tr><tr><td class = \"rowNumber\" style = \"font-weight: bold; text-align: right;\">6</td><td style = \"text-align: left;\">Croatia</td><td style = \"text-align: left;\">Belgium</td><td style = \"text-align: right;\">0.932715</td><td style = \"text-align: right;\">0.0640844</td><td style = \"text-align: right;\">0.00320028</td><td style = \"text-align: right;\">250.0</td><td style = \"text-align: right;\">2</td><td style = \"text-align: right;\">1</td><td style = \"text-align: right;\">false</td><td style = \"text-align: right;\">12</td><td style = \"text-align: right;\">1</td><td style = \"text-align: right;\">255.0</td><td style = \"text-align: right;\">-250.0</td></tr><tr><td class = \"rowNumber\" style = \"font-weight: bold; text-align: right;\">7</td><td style = \"text-align: left;\">Japan</td><td style = \"text-align: left;\">Spain</td><td style = \"text-align: right;\">0.989969</td><td style = \"text-align: right;\">0.00867209</td><td style = \"text-align: right;\">0.00135936</td><td style = \"text-align: right;\">250.0</td><td style = \"text-align: right;\">1</td><td style = \"text-align: right;\">1</td><td style = \"text-align: right;\">true</td><td style = \"text-align: right;\">24</td><td style = \"text-align: right;\">1</td><td style = \"text-align: right;\">1260.0</td><td style = \"text-align: right;\">1260.0</td></tr><tr><td class = \"rowNumber\" style = \"font-weight: bold; text-align: right;\">8</td><td style = \"text-align: left;\">Korea Republic</td><td style = \"text-align: left;\">Portugal</td><td style = \"text-align: right;\">0.912574</td><td style = \"text-align: right;\">0.0279381</td><td style = \"text-align: right;\">0.0594874</td><td style = \"text-align: right;\">250.0</td><td style = \"text-align: right;\">1</td><td style = \"text-align: right;\">1</td><td style = \"text-align: right;\">true</td><td style = \"text-align: right;\">26</td><td style = \"text-align: right;\">1</td><td style = \"text-align: right;\">565.0</td><td style = \"text-align: right;\">565.0</td></tr><tr><td class = \"rowNumber\" style = \"font-weight: bold; text-align: right;\">9</td><td style = \"text-align: left;\">Poland</td><td style = \"text-align: left;\">Argentina</td><td style = \"text-align: right;\">0.99983</td><td style = \"text-align: right;\">0.000126039</td><td style = \"text-align: right;\">4.36873e-5</td><td style = \"text-align: right;\">250.0</td><td style = \"text-align: right;\">3</td><td style = \"text-align: right;\">1</td><td style = \"text-align: right;\">false</td><td style = \"text-align: right;\">31</td><td style = \"text-align: right;\">1</td><td style = \"text-align: right;\">1547.5</td><td style = \"text-align: right;\">-250.0</td></tr><tr><td class = \"rowNumber\" style = \"font-weight: bold; text-align: right;\">10</td><td style = \"text-align: left;\">Qatar</td><td style = \"text-align: left;\">Ecuador</td><td style = \"text-align: right;\">0.976657</td><td style = \"text-align: right;\">0.00288333</td><td style = \"text-align: right;\">0.02046</td><td style = \"text-align: right;\">250.0</td><td style = \"text-align: right;\">3</td><td style = \"text-align: right;\">1</td><td style = \"text-align: right;\">false</td><td style = \"text-align: right;\">35</td><td style = \"text-align: right;\">1</td><td style = \"text-align: right;\">875.0</td><td style = \"text-align: right;\">-250.0</td></tr><tr><td class = \"rowNumber\" style = \"font-weight: bold; text-align: right;\">11</td><td style = \"text-align: left;\">Saudi Arabia</td><td style = \"text-align: left;\">Mexico</td><td style = \"text-align: right;\">0.999698</td><td style = \"text-align: right;\">0.00016969</td><td style = \"text-align: right;\">0.000132438</td><td style = \"text-align: right;\">250.0</td><td style = \"text-align: right;\">3</td><td style = \"text-align: right;\">1</td><td style = \"text-align: right;\">false</td><td style = \"text-align: right;\">37</td><td style = \"text-align: right;\">1</td><td style = \"text-align: right;\">835.0</td><td style = \"text-align: right;\">-250.0</td></tr><tr><td class = \"rowNumber\" style = \"font-weight: bold; text-align: right;\">12</td><td style = \"text-align: left;\">Senegal</td><td style = \"text-align: left;\">Netherlands</td><td style = \"text-align: right;\">0.9995</td><td style = \"text-align: right;\">0.00042588</td><td style = \"text-align: right;\">7.41291e-5</td><td style = \"text-align: right;\">250.0</td><td style = \"text-align: right;\">3</td><td style = \"text-align: right;\">1</td><td style = \"text-align: right;\">false</td><td style = \"text-align: right;\">38</td><td style = \"text-align: right;\">1</td><td style = \"text-align: right;\">1022.5</td><td style = \"text-align: right;\">-250.0</td></tr><tr><td class = \"rowNumber\" style = \"font-weight: bold; text-align: right;\">13</td><td style = \"text-align: left;\">Brazil</td><td style = \"text-align: left;\">Serbia</td><td style = \"text-align: right;\">0.169095</td><td style = \"text-align: right;\">0.773995</td><td style = \"text-align: right;\">0.05691</td><td style = \"text-align: right;\">250.0</td><td style = \"text-align: right;\">1</td><td style = \"text-align: right;\">2</td><td style = \"text-align: right;\">false</td><td style = \"text-align: right;\">6</td><td style = \"text-align: right;\">2</td><td style = \"text-align: right;\">570.0</td><td style = \"text-align: right;\">-250.0</td></tr><tr><td class = \"rowNumber\" style = \"font-weight: bold; text-align: right;\">14</td><td style = \"text-align: left;\">Germany</td><td style = \"text-align: left;\">Japan</td><td style = \"text-align: right;\">0.118089</td><td style = \"text-align: right;\">0.84444</td><td style = \"text-align: right;\">0.0374713</td><td style = \"text-align: right;\">250.0</td><td style = \"text-align: right;\">3</td><td style = \"text-align: right;\">2</td><td style = \"text-align: right;\">false</td><td style = \"text-align: right;\">20</td><td style = \"text-align: right;\">2</td><td style = \"text-align: right;\">710.0</td><td style = \"text-align: right;\">-250.0</td></tr><tr><td class = \"rowNumber\" style = \"font-weight: bold; text-align: right;\">15</td><td style = \"text-align: left;\">France</td><td style = \"text-align: left;\">Denmark</td><td style = \"text-align: right;\">0.75652</td><td style = \"text-align: right;\">0.0228109</td><td style = \"text-align: right;\">0.220669</td><td style = \"text-align: right;\">250.0</td><td style = \"text-align: right;\">1</td><td style = \"text-align: right;\">3</td><td style = \"text-align: right;\">false</td><td style = \"text-align: right;\">19</td><td style = \"text-align: right;\">3</td><td style = \"text-align: right;\">2965.0</td><td style = \"text-align: right;\">-250.0</td></tr><tr><td class = \"rowNumber\" style = \"font-weight: bold; text-align: right;\">16</td><td style = \"text-align: left;\">Japan</td><td style = \"text-align: left;\">Costa Rica</td><td style = \"text-align: right;\">0.377473</td><td style = \"text-align: right;\">0.216131</td><td style = \"text-align: right;\">0.406396</td><td style = \"text-align: right;\">250.0</td><td style = \"text-align: right;\">3</td><td style = \"text-align: right;\">3</td><td style = \"text-align: right;\">true</td><td style = \"text-align: right;\">23</td><td style = \"text-align: right;\">3</td><td style = \"text-align: right;\">1367.5</td><td style = \"text-align: right;\">1367.5</td></tr><tr><td class = \"rowNumber\" style = \"font-weight: bold; text-align: right;\">17</td><td style = \"text-align: left;\">Portugal</td><td style = \"text-align: left;\">Ghana</td><td style = \"text-align: right;\">0.00202424</td><td style = \"text-align: right;\">0.00299211</td><td style = \"text-align: right;\">0.994984</td><td style = \"text-align: right;\">250.0</td><td style = \"text-align: right;\">1</td><td style = \"text-align: right;\">3</td><td style = \"text-align: right;\">false</td><td style = \"text-align: right;\">33</td><td style = \"text-align: right;\">3</td><td style = \"text-align: right;\">622.5</td><td style = \"text-align: right;\">-250.0</td></tr><tr><td class = \"rowNumber\" style = \"font-weight: bold; text-align: right;\">18</td><td style = \"text-align: left;\">Spain</td><td style = \"text-align: left;\">Costa Rica</td><td style = \"text-align: right;\">0.0200075</td><td style = \"text-align: right;\">0.0141564</td><td style = \"text-align: right;\">0.965836</td><td style = \"text-align: right;\">250.0</td><td style = \"text-align: right;\">1</td><td style = \"text-align: right;\">3</td><td style = \"text-align: right;\">false</td><td style = \"text-align: right;\">40</td><td style = \"text-align: right;\">3</td><td style = \"text-align: right;\">3857.5</td><td style = \"text-align: right;\">-250.0</td></tr><tr><td class = \"rowNumber\" style = \"font-weight: bold; text-align: right;\">19</td><td style = \"text-align: left;\">Switzerland</td><td style = \"text-align: left;\">Cameroon</td><td style = \"text-align: right;\">0.245646</td><td style = \"text-align: right;\">0.20531</td><td style = \"text-align: right;\">0.549044</td><td style = \"text-align: right;\">250.0</td><td style = \"text-align: right;\">1</td><td style = \"text-align: right;\">3</td><td style = \"text-align: right;\">false</td><td style = \"text-align: right;\">42</td><td style = \"text-align: right;\">3</td><td style = \"text-align: right;\">752.5</td><td style = \"text-align: right;\">-250.0</td></tr><tr><td class = \"rowNumber\" style = \"font-weight: bold; text-align: right;\">20</td><td style = \"text-align: left;\">Tunisia</td><td style = \"text-align: left;\">Australia</td><td style = \"text-align: right;\">0.14659</td><td style = \"text-align: right;\">0.00531972</td><td style = \"text-align: right;\">0.84809</td><td style = \"text-align: right;\">250.0</td><td style = \"text-align: right;\">3</td><td style = \"text-align: right;\">3</td><td style = \"text-align: right;\">true</td><td style = \"text-align: right;\">43</td><td style = \"text-align: right;\">3</td><td style = \"text-align: right;\">380.0</td><td style = \"text-align: right;\">380.0</td></tr></tbody></table></div>"
      ],
      "text/latex": [
       "\\begin{tabular}{r|cccccccc}\n",
       "\t& home\\_team & away\\_team & home\\_win & draw & home\\_loss & bet\\_amount & actual\\_outcome & \\\\\n",
       "\t\\hline\n",
       "\t& String15 & String15 & Float64 & Float64 & Float64 & Float64 & Int64 & \\\\\n",
       "\t\\hline\n",
       "\t1 & Australia & Denmark & 0.954803 & 0.0345429 & 0.0106539 & 250.0 & 1 & $\\dots$ \\\\\n",
       "\t2 & Cameroon & Brazil & 0.942382 & 0.0509663 & 0.00665153 & 250.0 & 1 & $\\dots$ \\\\\n",
       "\t3 & Cameroon & Serbia & 0.891956 & 0.0729 & 0.035144 & 250.0 & 2 & $\\dots$ \\\\\n",
       "\t4 & Canada & Morocco & 0.88168 & 0.0102742 & 0.108046 & 250.0 & 3 & $\\dots$ \\\\\n",
       "\t5 & Costa Rica & Germany & 0.978623 & 0.0184663 & 0.00291089 & 250.0 & 3 & $\\dots$ \\\\\n",
       "\t6 & Croatia & Belgium & 0.932715 & 0.0640844 & 0.00320028 & 250.0 & 2 & $\\dots$ \\\\\n",
       "\t7 & Japan & Spain & 0.989969 & 0.00867209 & 0.00135936 & 250.0 & 1 & $\\dots$ \\\\\n",
       "\t8 & Korea Republic & Portugal & 0.912574 & 0.0279381 & 0.0594874 & 250.0 & 1 & $\\dots$ \\\\\n",
       "\t9 & Poland & Argentina & 0.99983 & 0.000126039 & 4.36873e-5 & 250.0 & 3 & $\\dots$ \\\\\n",
       "\t10 & Qatar & Ecuador & 0.976657 & 0.00288333 & 0.02046 & 250.0 & 3 & $\\dots$ \\\\\n",
       "\t11 & Saudi Arabia & Mexico & 0.999698 & 0.00016969 & 0.000132438 & 250.0 & 3 & $\\dots$ \\\\\n",
       "\t12 & Senegal & Netherlands & 0.9995 & 0.00042588 & 7.41291e-5 & 250.0 & 3 & $\\dots$ \\\\\n",
       "\t13 & Brazil & Serbia & 0.169095 & 0.773995 & 0.05691 & 250.0 & 1 & $\\dots$ \\\\\n",
       "\t14 & Germany & Japan & 0.118089 & 0.84444 & 0.0374713 & 250.0 & 3 & $\\dots$ \\\\\n",
       "\t15 & France & Denmark & 0.75652 & 0.0228109 & 0.220669 & 250.0 & 1 & $\\dots$ \\\\\n",
       "\t16 & Japan & Costa Rica & 0.377473 & 0.216131 & 0.406396 & 250.0 & 3 & $\\dots$ \\\\\n",
       "\t17 & Portugal & Ghana & 0.00202424 & 0.00299211 & 0.994984 & 250.0 & 1 & $\\dots$ \\\\\n",
       "\t18 & Spain & Costa Rica & 0.0200075 & 0.0141564 & 0.965836 & 250.0 & 1 & $\\dots$ \\\\\n",
       "\t19 & Switzerland & Cameroon & 0.245646 & 0.20531 & 0.549044 & 250.0 & 1 & $\\dots$ \\\\\n",
       "\t20 & Tunisia & Australia & 0.14659 & 0.00531972 & 0.84809 & 250.0 & 3 & $\\dots$ \\\\\n",
       "\\end{tabular}\n"
      ],
      "text/plain": [
       "\u001b[1m20×13 DataFrame\n",
       "\u001b[1m Row │\u001b[1m home_team      \u001b[1m away_team   \u001b[1m home_win   \u001b[1m draw        \u001b[1m home_loss   \u001b[1m bet_ ⋯\n",
       "     │\u001b[90m String15       \u001b[90m String15    \u001b[90m Float64    \u001b[90m Float64     \u001b[90m Float64     \u001b[90m Floa ⋯\n",
       "─────┼──────────────────────────────────────────────────────────────────────────\n",
       "   1 │ Australia       Denmark      0.954803    0.0345429    0.0106539         ⋯\n",
       "   2 │ Cameroon        Brazil       0.942382    0.0509663    0.00665153\n",
       "   3 │ Cameroon        Serbia       0.891956    0.0729       0.035144\n",
       "   4 │ Canada          Morocco      0.88168     0.0102742    0.108046\n",
       "   5 │ Costa Rica      Germany      0.978623    0.0184663    0.00291089        ⋯\n",
       "   6 │ Croatia         Belgium      0.932715    0.0640844    0.00320028\n",
       "   7 │ Japan           Spain        0.989969    0.00867209   0.00135936\n",
       "   8 │ Korea Republic  Portugal     0.912574    0.0279381    0.0594874\n",
       "   9 │ Poland          Argentina    0.99983     0.000126039  4.36873e-5        ⋯\n",
       "  10 │ Qatar           Ecuador      0.976657    0.00288333   0.02046\n",
       "  11 │ Saudi Arabia    Mexico       0.999698    0.00016969   0.000132438\n",
       "  12 │ Senegal         Netherlands  0.9995      0.00042588   7.41291e-5\n",
       "  13 │ Brazil          Serbia       0.169095    0.773995     0.05691           ⋯\n",
       "  14 │ Germany         Japan        0.118089    0.84444      0.0374713\n",
       "  15 │ France          Denmark      0.75652     0.0228109    0.220669\n",
       "  16 │ Japan           Costa Rica   0.377473    0.216131     0.406396\n",
       "  17 │ Portugal        Ghana        0.00202424  0.00299211   0.994984          ⋯\n",
       "  18 │ Spain           Costa Rica   0.0200075   0.0141564    0.965836\n",
       "  19 │ Switzerland     Cameroon     0.245646    0.20531      0.549044\n",
       "  20 │ Tunisia         Australia    0.14659     0.00531972   0.84809\n",
       "\u001b[36m                                                               8 columns omitted"
      ]
     },
     "execution_count": 82,
     "metadata": {},
     "output_type": "execute_result"
    }
   ],
   "source": [
    "# # ACTUAL PROFIT\n",
    "# for each row i in outcomes:\n",
    "# if correct == true, then actual_profit = if_bets_correct_profit, \n",
    "# if correct == false, then actual_profit = -bet_amount\n",
    "\n",
    "# initialise new actual profit list\n",
    "actual_profit = zeros(size(outcomes,1))\n",
    "\n",
    "# for each row in outcomes, calculate the actual profit and store in actual_profit list\n",
    "for i in 1:size(outcomes,1)\n",
    "    if outcomes[i,\"correct\"] == true\n",
    "        actual_profit[i] = outcomes[i,\"if_bets_correct_profit\"]\n",
    "    else\n",
    "        actual_profit[i] = -outcomes[i,\"bet_amount\"]\n",
    "    end\n",
    "end\n",
    "\n",
    "# add actual_profit to outcomes dataframe\n",
    "outcomes[:,\"actual_profit\"] = actual_profit;\n",
    "outcomes"
   ]
  },
  {
   "cell_type": "code",
   "execution_count": 83,
   "metadata": {},
   "outputs": [
    {
     "data": {
      "text/plain": [
       "3150.0"
      ]
     },
     "execution_count": 83,
     "metadata": {},
     "output_type": "execute_result"
    }
   ],
   "source": [
    "# sum outcomes[:,\"actual_earnings\"]\n",
    "sum(outcomes[:,\"actual_profit\"])"
   ]
  },
  {
   "cell_type": "code",
   "execution_count": 84,
   "metadata": {},
   "outputs": [
    {
     "data": {
      "text/html": [
       "<div><div style = \"float: left;\"><span>20×13 DataFrame</span></div><div style = \"clear: both;\"></div></div><div class = \"data-frame\" style = \"overflow-x: scroll;\"><table class = \"data-frame\" style = \"margin-bottom: 6px;\"><thead><tr class = \"header\"><th class = \"rowNumber\" style = \"font-weight: bold; text-align: right;\">Row</th><th style = \"text-align: left;\">home_team</th><th style = \"text-align: left;\">away_team</th><th style = \"text-align: left;\">home_win</th><th style = \"text-align: left;\">draw</th><th style = \"text-align: left;\">home_loss</th><th style = \"text-align: left;\">bet_amount</th><th style = \"text-align: left;\">actual_outcome</th><th style = \"text-align: left;\">bet_outcome</th><th style = \"text-align: left;\">correct</th><th style = \"text-align: left;\">betting_matches_indices</th><th style = \"text-align: left;\">betting_matches_outcomes</th><th style = \"text-align: left;\">if_bets_correct_profit</th><th style = \"text-align: left;\">actual_profit</th></tr><tr class = \"subheader headerLastRow\"><th class = \"rowNumber\" style = \"font-weight: bold; text-align: right;\"></th><th title = \"String15\" style = \"text-align: left;\">String15</th><th title = \"String15\" style = \"text-align: left;\">String15</th><th title = \"Float64\" style = \"text-align: left;\">Float64</th><th title = \"Float64\" style = \"text-align: left;\">Float64</th><th title = \"Float64\" style = \"text-align: left;\">Float64</th><th title = \"Float64\" style = \"text-align: left;\">Float64</th><th title = \"Int64\" style = \"text-align: left;\">Int64</th><th title = \"Int64\" style = \"text-align: left;\">Int64</th><th title = \"Bool\" style = \"text-align: left;\">Bool</th><th title = \"Int64\" style = \"text-align: left;\">Int64</th><th title = \"Int64\" style = \"text-align: left;\">Int64</th><th title = \"Float64\" style = \"text-align: left;\">Float64</th><th title = \"Float64\" style = \"text-align: left;\">Float64</th></tr></thead><tbody><tr><td class = \"rowNumber\" style = \"font-weight: bold; text-align: right;\">1</td><td style = \"text-align: left;\">Cameroon</td><td style = \"text-align: left;\">Brazil</td><td style = \"text-align: right;\">0.942382</td><td style = \"text-align: right;\">0.0509663</td><td style = \"text-align: right;\">0.00665153</td><td style = \"text-align: right;\">250.0</td><td style = \"text-align: right;\">1</td><td style = \"text-align: right;\">1</td><td style = \"text-align: right;\">true</td><td style = \"text-align: right;\">8</td><td style = \"text-align: right;\">1</td><td style = \"text-align: right;\">1732.5</td><td style = \"text-align: right;\">1732.5</td></tr><tr><td class = \"rowNumber\" style = \"font-weight: bold; text-align: right;\">2</td><td style = \"text-align: left;\">Japan</td><td style = \"text-align: left;\">Costa Rica</td><td style = \"text-align: right;\">0.377473</td><td style = \"text-align: right;\">0.216131</td><td style = \"text-align: right;\">0.406396</td><td style = \"text-align: right;\">250.0</td><td style = \"text-align: right;\">3</td><td style = \"text-align: right;\">3</td><td style = \"text-align: right;\">true</td><td style = \"text-align: right;\">23</td><td style = \"text-align: right;\">3</td><td style = \"text-align: right;\">1367.5</td><td style = \"text-align: right;\">1367.5</td></tr><tr><td class = \"rowNumber\" style = \"font-weight: bold; text-align: right;\">3</td><td style = \"text-align: left;\">Australia</td><td style = \"text-align: left;\">Denmark</td><td style = \"text-align: right;\">0.954803</td><td style = \"text-align: right;\">0.0345429</td><td style = \"text-align: right;\">0.0106539</td><td style = \"text-align: right;\">250.0</td><td style = \"text-align: right;\">1</td><td style = \"text-align: right;\">1</td><td style = \"text-align: right;\">true</td><td style = \"text-align: right;\">3</td><td style = \"text-align: right;\">1</td><td style = \"text-align: right;\">1345.0</td><td style = \"text-align: right;\">1345.0</td></tr><tr><td class = \"rowNumber\" style = \"font-weight: bold; text-align: right;\">4</td><td style = \"text-align: left;\">Japan</td><td style = \"text-align: left;\">Spain</td><td style = \"text-align: right;\">0.989969</td><td style = \"text-align: right;\">0.00867209</td><td style = \"text-align: right;\">0.00135936</td><td style = \"text-align: right;\">250.0</td><td style = \"text-align: right;\">1</td><td style = \"text-align: right;\">1</td><td style = \"text-align: right;\">true</td><td style = \"text-align: right;\">24</td><td style = \"text-align: right;\">1</td><td style = \"text-align: right;\">1260.0</td><td style = \"text-align: right;\">1260.0</td></tr><tr><td class = \"rowNumber\" style = \"font-weight: bold; text-align: right;\">5</td><td style = \"text-align: left;\">Korea Republic</td><td style = \"text-align: left;\">Portugal</td><td style = \"text-align: right;\">0.912574</td><td style = \"text-align: right;\">0.0279381</td><td style = \"text-align: right;\">0.0594874</td><td style = \"text-align: right;\">250.0</td><td style = \"text-align: right;\">1</td><td style = \"text-align: right;\">1</td><td style = \"text-align: right;\">true</td><td style = \"text-align: right;\">26</td><td style = \"text-align: right;\">1</td><td style = \"text-align: right;\">565.0</td><td style = \"text-align: right;\">565.0</td></tr><tr><td class = \"rowNumber\" style = \"font-weight: bold; text-align: right;\">6</td><td style = \"text-align: left;\">Tunisia</td><td style = \"text-align: left;\">Australia</td><td style = \"text-align: right;\">0.14659</td><td style = \"text-align: right;\">0.00531972</td><td style = \"text-align: right;\">0.84809</td><td style = \"text-align: right;\">250.0</td><td style = \"text-align: right;\">3</td><td style = \"text-align: right;\">3</td><td style = \"text-align: right;\">true</td><td style = \"text-align: right;\">43</td><td style = \"text-align: right;\">3</td><td style = \"text-align: right;\">380.0</td><td style = \"text-align: right;\">380.0</td></tr><tr><td class = \"rowNumber\" style = \"font-weight: bold; text-align: right;\">7</td><td style = \"text-align: left;\">Cameroon</td><td style = \"text-align: left;\">Serbia</td><td style = \"text-align: right;\">0.891956</td><td style = \"text-align: right;\">0.0729</td><td style = \"text-align: right;\">0.035144</td><td style = \"text-align: right;\">250.0</td><td style = \"text-align: right;\">2</td><td style = \"text-align: right;\">1</td><td style = \"text-align: right;\">false</td><td style = \"text-align: right;\">9</td><td style = \"text-align: right;\">1</td><td style = \"text-align: right;\">825.0</td><td style = \"text-align: right;\">-250.0</td></tr><tr><td class = \"rowNumber\" style = \"font-weight: bold; text-align: right;\">8</td><td style = \"text-align: left;\">Canada</td><td style = \"text-align: left;\">Morocco</td><td style = \"text-align: right;\">0.88168</td><td style = \"text-align: right;\">0.0102742</td><td style = \"text-align: right;\">0.108046</td><td style = \"text-align: right;\">250.0</td><td style = \"text-align: right;\">3</td><td style = \"text-align: right;\">1</td><td style = \"text-align: right;\">false</td><td style = \"text-align: right;\">10</td><td style = \"text-align: right;\">1</td><td style = \"text-align: right;\">695.0</td><td style = \"text-align: right;\">-250.0</td></tr><tr><td class = \"rowNumber\" style = \"font-weight: bold; text-align: right;\">9</td><td style = \"text-align: left;\">Costa Rica</td><td style = \"text-align: left;\">Germany</td><td style = \"text-align: right;\">0.978623</td><td style = \"text-align: right;\">0.0184663</td><td style = \"text-align: right;\">0.00291089</td><td style = \"text-align: right;\">250.0</td><td style = \"text-align: right;\">3</td><td style = \"text-align: right;\">1</td><td style = \"text-align: right;\">false</td><td style = \"text-align: right;\">11</td><td style = \"text-align: right;\">1</td><td style = \"text-align: right;\">5447.5</td><td style = \"text-align: right;\">-250.0</td></tr><tr><td class = \"rowNumber\" style = \"font-weight: bold; text-align: right;\">10</td><td style = \"text-align: left;\">Croatia</td><td style = \"text-align: left;\">Belgium</td><td style = \"text-align: right;\">0.932715</td><td style = \"text-align: right;\">0.0640844</td><td style = \"text-align: right;\">0.00320028</td><td style = \"text-align: right;\">250.0</td><td style = \"text-align: right;\">2</td><td style = \"text-align: right;\">1</td><td style = \"text-align: right;\">false</td><td style = \"text-align: right;\">12</td><td style = \"text-align: right;\">1</td><td style = \"text-align: right;\">255.0</td><td style = \"text-align: right;\">-250.0</td></tr><tr><td class = \"rowNumber\" style = \"font-weight: bold; text-align: right;\">11</td><td style = \"text-align: left;\">Poland</td><td style = \"text-align: left;\">Argentina</td><td style = \"text-align: right;\">0.99983</td><td style = \"text-align: right;\">0.000126039</td><td style = \"text-align: right;\">4.36873e-5</td><td style = \"text-align: right;\">250.0</td><td style = \"text-align: right;\">3</td><td style = \"text-align: right;\">1</td><td style = \"text-align: right;\">false</td><td style = \"text-align: right;\">31</td><td style = \"text-align: right;\">1</td><td style = \"text-align: right;\">1547.5</td><td style = \"text-align: right;\">-250.0</td></tr><tr><td class = \"rowNumber\" style = \"font-weight: bold; text-align: right;\">12</td><td style = \"text-align: left;\">Qatar</td><td style = \"text-align: left;\">Ecuador</td><td style = \"text-align: right;\">0.976657</td><td style = \"text-align: right;\">0.00288333</td><td style = \"text-align: right;\">0.02046</td><td style = \"text-align: right;\">250.0</td><td style = \"text-align: right;\">3</td><td style = \"text-align: right;\">1</td><td style = \"text-align: right;\">false</td><td style = \"text-align: right;\">35</td><td style = \"text-align: right;\">1</td><td style = \"text-align: right;\">875.0</td><td style = \"text-align: right;\">-250.0</td></tr><tr><td class = \"rowNumber\" style = \"font-weight: bold; text-align: right;\">13</td><td style = \"text-align: left;\">Saudi Arabia</td><td style = \"text-align: left;\">Mexico</td><td style = \"text-align: right;\">0.999698</td><td style = \"text-align: right;\">0.00016969</td><td style = \"text-align: right;\">0.000132438</td><td style = \"text-align: right;\">250.0</td><td style = \"text-align: right;\">3</td><td style = \"text-align: right;\">1</td><td style = \"text-align: right;\">false</td><td style = \"text-align: right;\">37</td><td style = \"text-align: right;\">1</td><td style = \"text-align: right;\">835.0</td><td style = \"text-align: right;\">-250.0</td></tr><tr><td class = \"rowNumber\" style = \"font-weight: bold; text-align: right;\">14</td><td style = \"text-align: left;\">Senegal</td><td style = \"text-align: left;\">Netherlands</td><td style = \"text-align: right;\">0.9995</td><td style = \"text-align: right;\">0.00042588</td><td style = \"text-align: right;\">7.41291e-5</td><td style = \"text-align: right;\">250.0</td><td style = \"text-align: right;\">3</td><td style = \"text-align: right;\">1</td><td style = \"text-align: right;\">false</td><td style = \"text-align: right;\">38</td><td style = \"text-align: right;\">1</td><td style = \"text-align: right;\">1022.5</td><td style = \"text-align: right;\">-250.0</td></tr><tr><td class = \"rowNumber\" style = \"font-weight: bold; text-align: right;\">15</td><td style = \"text-align: left;\">Brazil</td><td style = \"text-align: left;\">Serbia</td><td style = \"text-align: right;\">0.169095</td><td style = \"text-align: right;\">0.773995</td><td style = \"text-align: right;\">0.05691</td><td style = \"text-align: right;\">250.0</td><td style = \"text-align: right;\">1</td><td style = \"text-align: right;\">2</td><td style = \"text-align: right;\">false</td><td style = \"text-align: right;\">6</td><td style = \"text-align: right;\">2</td><td style = \"text-align: right;\">570.0</td><td style = \"text-align: right;\">-250.0</td></tr><tr><td class = \"rowNumber\" style = \"font-weight: bold; text-align: right;\">16</td><td style = \"text-align: left;\">Germany</td><td style = \"text-align: left;\">Japan</td><td style = \"text-align: right;\">0.118089</td><td style = \"text-align: right;\">0.84444</td><td style = \"text-align: right;\">0.0374713</td><td style = \"text-align: right;\">250.0</td><td style = \"text-align: right;\">3</td><td style = \"text-align: right;\">2</td><td style = \"text-align: right;\">false</td><td style = \"text-align: right;\">20</td><td style = \"text-align: right;\">2</td><td style = \"text-align: right;\">710.0</td><td style = \"text-align: right;\">-250.0</td></tr><tr><td class = \"rowNumber\" style = \"font-weight: bold; text-align: right;\">17</td><td style = \"text-align: left;\">France</td><td style = \"text-align: left;\">Denmark</td><td style = \"text-align: right;\">0.75652</td><td style = \"text-align: right;\">0.0228109</td><td style = \"text-align: right;\">0.220669</td><td style = \"text-align: right;\">250.0</td><td style = \"text-align: right;\">1</td><td style = \"text-align: right;\">3</td><td style = \"text-align: right;\">false</td><td style = \"text-align: right;\">19</td><td style = \"text-align: right;\">3</td><td style = \"text-align: right;\">2965.0</td><td style = \"text-align: right;\">-250.0</td></tr><tr><td class = \"rowNumber\" style = \"font-weight: bold; text-align: right;\">18</td><td style = \"text-align: left;\">Portugal</td><td style = \"text-align: left;\">Ghana</td><td style = \"text-align: right;\">0.00202424</td><td style = \"text-align: right;\">0.00299211</td><td style = \"text-align: right;\">0.994984</td><td style = \"text-align: right;\">250.0</td><td style = \"text-align: right;\">1</td><td style = \"text-align: right;\">3</td><td style = \"text-align: right;\">false</td><td style = \"text-align: right;\">33</td><td style = \"text-align: right;\">3</td><td style = \"text-align: right;\">622.5</td><td style = \"text-align: right;\">-250.0</td></tr><tr><td class = \"rowNumber\" style = \"font-weight: bold; text-align: right;\">19</td><td style = \"text-align: left;\">Spain</td><td style = \"text-align: left;\">Costa Rica</td><td style = \"text-align: right;\">0.0200075</td><td style = \"text-align: right;\">0.0141564</td><td style = \"text-align: right;\">0.965836</td><td style = \"text-align: right;\">250.0</td><td style = \"text-align: right;\">1</td><td style = \"text-align: right;\">3</td><td style = \"text-align: right;\">false</td><td style = \"text-align: right;\">40</td><td style = \"text-align: right;\">3</td><td style = \"text-align: right;\">3857.5</td><td style = \"text-align: right;\">-250.0</td></tr><tr><td class = \"rowNumber\" style = \"font-weight: bold; text-align: right;\">20</td><td style = \"text-align: left;\">Switzerland</td><td style = \"text-align: left;\">Cameroon</td><td style = \"text-align: right;\">0.245646</td><td style = \"text-align: right;\">0.20531</td><td style = \"text-align: right;\">0.549044</td><td style = \"text-align: right;\">250.0</td><td style = \"text-align: right;\">1</td><td style = \"text-align: right;\">3</td><td style = \"text-align: right;\">false</td><td style = \"text-align: right;\">42</td><td style = \"text-align: right;\">3</td><td style = \"text-align: right;\">752.5</td><td style = \"text-align: right;\">-250.0</td></tr></tbody></table></div>"
      ],
      "text/latex": [
       "\\begin{tabular}{r|cccccccc}\n",
       "\t& home\\_team & away\\_team & home\\_win & draw & home\\_loss & bet\\_amount & actual\\_outcome & \\\\\n",
       "\t\\hline\n",
       "\t& String15 & String15 & Float64 & Float64 & Float64 & Float64 & Int64 & \\\\\n",
       "\t\\hline\n",
       "\t1 & Cameroon & Brazil & 0.942382 & 0.0509663 & 0.00665153 & 250.0 & 1 & $\\dots$ \\\\\n",
       "\t2 & Japan & Costa Rica & 0.377473 & 0.216131 & 0.406396 & 250.0 & 3 & $\\dots$ \\\\\n",
       "\t3 & Australia & Denmark & 0.954803 & 0.0345429 & 0.0106539 & 250.0 & 1 & $\\dots$ \\\\\n",
       "\t4 & Japan & Spain & 0.989969 & 0.00867209 & 0.00135936 & 250.0 & 1 & $\\dots$ \\\\\n",
       "\t5 & Korea Republic & Portugal & 0.912574 & 0.0279381 & 0.0594874 & 250.0 & 1 & $\\dots$ \\\\\n",
       "\t6 & Tunisia & Australia & 0.14659 & 0.00531972 & 0.84809 & 250.0 & 3 & $\\dots$ \\\\\n",
       "\t7 & Cameroon & Serbia & 0.891956 & 0.0729 & 0.035144 & 250.0 & 2 & $\\dots$ \\\\\n",
       "\t8 & Canada & Morocco & 0.88168 & 0.0102742 & 0.108046 & 250.0 & 3 & $\\dots$ \\\\\n",
       "\t9 & Costa Rica & Germany & 0.978623 & 0.0184663 & 0.00291089 & 250.0 & 3 & $\\dots$ \\\\\n",
       "\t10 & Croatia & Belgium & 0.932715 & 0.0640844 & 0.00320028 & 250.0 & 2 & $\\dots$ \\\\\n",
       "\t11 & Poland & Argentina & 0.99983 & 0.000126039 & 4.36873e-5 & 250.0 & 3 & $\\dots$ \\\\\n",
       "\t12 & Qatar & Ecuador & 0.976657 & 0.00288333 & 0.02046 & 250.0 & 3 & $\\dots$ \\\\\n",
       "\t13 & Saudi Arabia & Mexico & 0.999698 & 0.00016969 & 0.000132438 & 250.0 & 3 & $\\dots$ \\\\\n",
       "\t14 & Senegal & Netherlands & 0.9995 & 0.00042588 & 7.41291e-5 & 250.0 & 3 & $\\dots$ \\\\\n",
       "\t15 & Brazil & Serbia & 0.169095 & 0.773995 & 0.05691 & 250.0 & 1 & $\\dots$ \\\\\n",
       "\t16 & Germany & Japan & 0.118089 & 0.84444 & 0.0374713 & 250.0 & 3 & $\\dots$ \\\\\n",
       "\t17 & France & Denmark & 0.75652 & 0.0228109 & 0.220669 & 250.0 & 1 & $\\dots$ \\\\\n",
       "\t18 & Portugal & Ghana & 0.00202424 & 0.00299211 & 0.994984 & 250.0 & 1 & $\\dots$ \\\\\n",
       "\t19 & Spain & Costa Rica & 0.0200075 & 0.0141564 & 0.965836 & 250.0 & 1 & $\\dots$ \\\\\n",
       "\t20 & Switzerland & Cameroon & 0.245646 & 0.20531 & 0.549044 & 250.0 & 1 & $\\dots$ \\\\\n",
       "\\end{tabular}\n"
      ],
      "text/plain": [
       "\u001b[1m20×13 DataFrame\n",
       "\u001b[1m Row │\u001b[1m home_team      \u001b[1m away_team   \u001b[1m home_win   \u001b[1m draw        \u001b[1m home_loss   \u001b[1m bet_ ⋯\n",
       "     │\u001b[90m String15       \u001b[90m String15    \u001b[90m Float64    \u001b[90m Float64     \u001b[90m Float64     \u001b[90m Floa ⋯\n",
       "─────┼──────────────────────────────────────────────────────────────────────────\n",
       "   1 │ Cameroon        Brazil       0.942382    0.0509663    0.00665153        ⋯\n",
       "   2 │ Japan           Costa Rica   0.377473    0.216131     0.406396\n",
       "   3 │ Australia       Denmark      0.954803    0.0345429    0.0106539\n",
       "   4 │ Japan           Spain        0.989969    0.00867209   0.00135936\n",
       "   5 │ Korea Republic  Portugal     0.912574    0.0279381    0.0594874         ⋯\n",
       "   6 │ Tunisia         Australia    0.14659     0.00531972   0.84809\n",
       "   7 │ Cameroon        Serbia       0.891956    0.0729       0.035144\n",
       "   8 │ Canada          Morocco      0.88168     0.0102742    0.108046\n",
       "   9 │ Costa Rica      Germany      0.978623    0.0184663    0.00291089        ⋯\n",
       "  10 │ Croatia         Belgium      0.932715    0.0640844    0.00320028\n",
       "  11 │ Poland          Argentina    0.99983     0.000126039  4.36873e-5\n",
       "  12 │ Qatar           Ecuador      0.976657    0.00288333   0.02046\n",
       "  13 │ Saudi Arabia    Mexico       0.999698    0.00016969   0.000132438       ⋯\n",
       "  14 │ Senegal         Netherlands  0.9995      0.00042588   7.41291e-5\n",
       "  15 │ Brazil          Serbia       0.169095    0.773995     0.05691\n",
       "  16 │ Germany         Japan        0.118089    0.84444      0.0374713\n",
       "  17 │ France          Denmark      0.75652     0.0228109    0.220669          ⋯\n",
       "  18 │ Portugal        Ghana        0.00202424  0.00299211   0.994984\n",
       "  19 │ Spain           Costa Rica   0.0200075   0.0141564    0.965836\n",
       "  20 │ Switzerland     Cameroon     0.245646    0.20531      0.549044\n",
       "\u001b[36m                                                               8 columns omitted"
      ]
     },
     "execution_count": 84,
     "metadata": {},
     "output_type": "execute_result"
    }
   ],
   "source": [
    "# sort outcomes by actual_profit\n",
    "sort(outcomes, :actual_profit, rev=true)"
   ]
  }
 ],
 "metadata": {
  "kernelspec": {
   "display_name": "Julia 1.8.1",
   "language": "julia",
   "name": "julia-1.8"
  },
  "language_info": {
   "file_extension": ".jl",
   "mimetype": "application/julia",
   "name": "julia",
   "version": "1.8.1"
  },
  "orig_nbformat": 4,
  "vscode": {
   "interpreter": {
    "hash": "aee8b7b246df8f9039afb4144a1f6fd8d2ca17a180786b69acc140d282b71a49"
   }
  }
 },
 "nbformat": 4,
 "nbformat_minor": 2
}
